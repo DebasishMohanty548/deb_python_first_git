{
 "cells": [
  {
   "cell_type": "code",
   "execution_count": 1,
   "id": "968f0c39-7d76-43ac-8a49-250472c9bd5b",
   "metadata": {},
   "outputs": [
    {
     "name": "stdout",
     "output_type": "stream",
     "text": [
      "0\n",
      "1\n",
      "2\n",
      "3\n",
      "4\n"
     ]
    }
   ],
   "source": [
    "#looping means reuese of code multiple times untill the condition is satisfied.\n",
    "#loop kry parts:\n",
    "   #starting point,stopping condition , increment or decrement\n",
    "#the default start point is zero in python \n",
    "#default increment is 1\n",
    "#the last value is stop value - 1\n",
    "for i in range(5):\n",
    "    print(i)"
   ]
  },
  {
   "cell_type": "code",
   "execution_count": 94,
   "id": "85c33de4-bd73-425d-8fbe-41eaa29234d8",
   "metadata": {},
   "outputs": [
    {
     "name": "stdout",
     "output_type": "stream",
     "text": [
      "5\t6\t7\t8\t9\t10\t"
     ]
    }
   ],
   "source": [
    "for a in range(5,11):\n",
    "    print(a,end='\\t')"
   ]
  },
  {
   "cell_type": "code",
   "execution_count": 31,
   "id": "1fa77454-7f82-42da-b54a-885fc193b933",
   "metadata": {},
   "outputs": [
    {
     "name": "stdin",
     "output_type": "stream",
     "text": [
      "Enter a number :  69\n"
     ]
    },
    {
     "name": "stdout",
     "output_type": "stream",
     "text": [
      "69 * 1 = 69\n",
      "69 * 2 = 138\n",
      "69 * 3 = 207\n",
      "69 * 4 = 276\n",
      "69 * 5 = 345\n",
      "69 * 6 = 414\n",
      "69 * 7 = 483\n",
      "69 * 8 = 552\n",
      "69 * 9 = 621\n",
      "69 * 10 = 690\n"
     ]
    }
   ],
   "source": [
    "#mul table\n",
    "def table():\n",
    "    n=eval(input(\"Enter a number : \"))\n",
    "    for num in range (1,11):\n",
    "        print(f\"{n} * {num} = {n*num}\")\n",
    "try:\n",
    "    table()\n",
    "except Exception as e:\n",
    "    print(f\"there is an exception {e}\")"
   ]
  },
  {
   "cell_type": "code",
   "execution_count": 43,
   "id": "4008b9b9-773f-479f-96d9-910131bdf2d6",
   "metadata": {},
   "outputs": [
    {
     "name": "stdout",
     "output_type": "stream",
     "text": [
      "1\n",
      "4\n",
      "9\n",
      "16\n",
      "25\n"
     ]
    }
   ],
   "source": [
    "def sq():\n",
    "    for nu in range (1,6):\n",
    "        print(nu*nu)\n",
    "sq()    "
   ]
  },
  {
   "cell_type": "code",
   "execution_count": 49,
   "id": "625679ca-7e78-4737-bf6b-a10fdde03b51",
   "metadata": {},
   "outputs": [
    {
     "name": "stdin",
     "output_type": "stream",
     "text": [
      "Enter a number :  85\n"
     ]
    },
    {
     "name": "stdout",
     "output_type": "stream",
     "text": [
      "7225,"
     ]
    },
    {
     "name": "stdin",
     "output_type": "stream",
     "text": [
      "Enter a number :  8\n"
     ]
    },
    {
     "name": "stdout",
     "output_type": "stream",
     "text": [
      "7225,64,"
     ]
    },
    {
     "name": "stdin",
     "output_type": "stream",
     "text": [
      "Enter a number :  63\n"
     ]
    },
    {
     "name": "stdout",
     "output_type": "stream",
     "text": [
      "7225,64,3969,"
     ]
    },
    {
     "name": "stdin",
     "output_type": "stream",
     "text": [
      "Enter a number :  45\n"
     ]
    },
    {
     "name": "stdout",
     "output_type": "stream",
     "text": [
      "7225,64,3969,2025,"
     ]
    },
    {
     "name": "stdin",
     "output_type": "stream",
     "text": [
      "Enter a number :  12\n"
     ]
    },
    {
     "name": "stdout",
     "output_type": "stream",
     "text": [
      "7225,64,3969,2025,144,"
     ]
    }
   ],
   "source": [
    "\n",
    "lis=[]\n",
    "for q in range(5):\n",
    "    n=eval(input(\"Enter a number : \"))\n",
    "    lis.append(n)\n",
    "    for y in lis:\n",
    "        print(y*y,end=',')\n",
    "    "
   ]
  },
  {
   "cell_type": "code",
   "execution_count": 84,
   "id": "91d47249-ec50-4d63-a522-48645ab71f42",
   "metadata": {},
   "outputs": [
    {
     "name": "stdout",
     "output_type": "stream",
     "text": [
      " the square of 7 = 49\n",
      " the square of 95 = 9025\n",
      " the square of 4 = 16\n",
      " the square of 60 = 3600\n",
      " the square of 70 = 4900\n"
     ]
    }
   ],
   "source": [
    "import random\n",
    "def rs():\n",
    "    lis=[]\n",
    "    for q in range(5):\n",
    "        rand=random.randint(1,100)\n",
    "        lis.append(rand)\n",
    "    for y in lis:\n",
    "        print(f\" the square of {y} = {y**2}\",end='\\n')\n",
    "rs()   "
   ]
  },
  {
   "cell_type": "code",
   "execution_count": 86,
   "id": "fe21f442-f5ae-4ee3-8758-73fd48add659",
   "metadata": {},
   "outputs": [
    {
     "name": "stdout",
     "output_type": "stream",
     "text": [
      "11 is odd\n",
      "12 is even\n",
      "13 is odd\n",
      "14 is even\n",
      "15 is odd\n",
      "16 is even\n",
      "17 is odd\n",
      "18 is even\n",
      "19 is odd\n",
      "20 is even\n",
      "21 is odd\n"
     ]
    }
   ],
   "source": [
    "\n",
    "def evenodd():\n",
    "    for i in range(11,22):\n",
    "        if i%2==0:\n",
    "            print(f\"{i} is even\")\n",
    "        else:\n",
    "            print(f\"{i} is odd\")\n",
    "evenodd()"
   ]
  },
  {
   "cell_type": "code",
   "execution_count": 90,
   "id": "8ac71b0a-2455-42e8-86dc-2de7d9689cf3",
   "metadata": {},
   "outputs": [
    {
     "name": "stdin",
     "output_type": "stream",
     "text": [
      "Enter a number :  5\n"
     ]
    },
    {
     "name": "stdout",
     "output_type": "stream",
     "text": [
      "5 is odd\n"
     ]
    },
    {
     "name": "stdin",
     "output_type": "stream",
     "text": [
      "Enter a number :  9\n"
     ]
    },
    {
     "name": "stdout",
     "output_type": "stream",
     "text": [
      "9 is odd\n"
     ]
    },
    {
     "name": "stdin",
     "output_type": "stream",
     "text": [
      "Enter a number :  8\n"
     ]
    },
    {
     "name": "stdout",
     "output_type": "stream",
     "text": [
      "8 is even\n"
     ]
    },
    {
     "name": "stdin",
     "output_type": "stream",
     "text": [
      "Enter a number :  6\n"
     ]
    },
    {
     "name": "stdout",
     "output_type": "stream",
     "text": [
      "6 is even\n"
     ]
    },
    {
     "name": "stdin",
     "output_type": "stream",
     "text": [
      "Enter a number :  2\n"
     ]
    },
    {
     "name": "stdout",
     "output_type": "stream",
     "text": [
      "2 is even\n"
     ]
    }
   ],
   "source": [
    "#user input\n",
    "def evenodd():\n",
    "    for y in range(5):\n",
    "        i=eval(input(\"Enter a number : \"))\n",
    "        if i%2==0:\n",
    "            print(f\"{i} is even\")\n",
    "        else:\n",
    "            print(f\"{i} is odd\")\n",
    "evenodd()"
   ]
  },
  {
   "cell_type": "code",
   "execution_count": 114,
   "id": "7b8ce0e4-9d6e-4352-b18b-10f34704b866",
   "metadata": {},
   "outputs": [
    {
     "name": "stdout",
     "output_type": "stream",
     "text": [
      "5\t7\t9\t11\t13\t15\t17\t19\t"
     ]
    }
   ],
   "source": [
    "for a in range(5,21,2):\n",
    "    print(a,end='\\t')"
   ]
  },
  {
   "cell_type": "code",
   "execution_count": 110,
   "id": "a47b2acb-f623-48cb-99ba-7abcb8de91a5",
   "metadata": {},
   "outputs": [
    {
     "name": "stdin",
     "output_type": "stream",
     "text": [
      "Enter the number of enteries 3\n",
      " apple\n",
      " 5\n",
      " 10\n",
      " or\n",
      " 2\n",
      " 10\n",
      " app\n",
      " 10\n",
      " 5\n"
     ]
    },
    {
     "name": "stdout",
     "output_type": "stream",
     "text": [
      "10\n",
      "app\n",
      "40.0\n"
     ]
    }
   ],
   "source": [
    "n=eval(input(\"Enter the number of enteries\"))\n",
    "hsell=float('-inf')\n",
    "hi=''\n",
    "dic={}\n",
    "total=0\n",
    "for ii in range(n):\n",
    "    name=input().strip()\n",
    "    price=eval(input())\n",
    "    quant=int(input())\n",
    "    sell=price*quant\n",
    "    total+=sell\n",
    "    if name in dic:\n",
    "        dic[name]+=price\n",
    "    else:\n",
    "        dic[name]=price\n",
    "for item,rate in dic.items():\n",
    "    if rate>hsell:\n",
    "        hi=item\n",
    "        hsell=rate\n",
    "print(hsell)\n",
    "print(hi)\n",
    "avg=total/n\n",
    "print(avg)\n"
   ]
  },
  {
   "cell_type": "code",
   "execution_count": 118,
   "id": "c81d207e-2b7c-40b0-8788-df810dbcfabc",
   "metadata": {},
   "outputs": [
    {
     "data": {
      "text/plain": [
       "range(-19, 3, -3)"
      ]
     },
     "execution_count": 118,
     "metadata": {},
     "output_type": "execute_result"
    }
   ],
   "source": [
    "range(3,19,3) #p\n",
    "range(3,19,-3) #np\n",
    "range(-3,19,3) #p\n",
    "range(3,-19,3) #np\n",
    "range(-3,-19,3) #np\n",
    "range(3,-19,-3) #p\n",
    "range(-3,-19,-3) #p\n",
    "range(19,3,3) #np\n",
    "range(-19,3,-3) #np"
   ]
  },
  {
   "cell_type": "code",
   "execution_count": null,
   "id": "ec40db65-24cb-4d50-b676-e60705b27fe9",
   "metadata": {},
   "outputs": [],
   "source": []
  }
 ],
 "metadata": {
  "kernelspec": {
   "display_name": "Python 3 (ipykernel)",
   "language": "python",
   "name": "python3"
  },
  "language_info": {
   "codemirror_mode": {
    "name": "ipython",
    "version": 3
   },
   "file_extension": ".py",
   "mimetype": "text/x-python",
   "name": "python",
   "nbconvert_exporter": "python",
   "pygments_lexer": "ipython3",
   "version": "3.11.7"
  }
 },
 "nbformat": 4,
 "nbformat_minor": 5
}
