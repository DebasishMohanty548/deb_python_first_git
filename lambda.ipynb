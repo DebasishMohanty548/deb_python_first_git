{
 "cells": [
  {
   "cell_type": "code",
   "execution_count": 1,
   "id": "7a3b1162-72c7-4a8a-a4f7-6afee0530534",
   "metadata": {},
   "outputs": [
    {
     "name": "stdout",
     "output_type": "stream",
     "text": [
      "['e', 'l', 'a', 'y', 'r', 't'] elayrt\n"
     ]
    }
   ],
   "source": [
    "s='tryale'\n",
    "l=[]\n",
    "re=''\n",
    "for i in s:\n",
    "    re=i+re\n",
    "    l.insert(-len(l),i)\n",
    "print(l,re)"
   ]
  },
  {
   "cell_type": "code",
   "execution_count": 2,
   "id": "ae0cad35-7b10-4a62-96b9-8523feb9b219",
   "metadata": {},
   "outputs": [
    {
     "name": "stdout",
     "output_type": "stream",
     "text": [
      "20\n"
     ]
    }
   ],
   "source": [
    "x=lambda x: x+10\n",
    "print(x(10))"
   ]
  },
  {
   "cell_type": "code",
   "execution_count": 3,
   "id": "603e096c-3bf6-4065-b84d-3c700131f105",
   "metadata": {},
   "outputs": [
    {
     "name": "stdout",
     "output_type": "stream",
     "text": [
      "[1, 4, 9, 16]\n"
     ]
    }
   ],
   "source": [
    "li=[1,2,3,4]\n",
    "x=map(lambda x: x**2,li)\n",
    "print(list(x))"
   ]
  },
  {
   "cell_type": "code",
   "execution_count": 19,
   "id": "1e5e793e-9ad8-46b5-a008-b0ebbfd7aea2",
   "metadata": {},
   "outputs": [
    {
     "name": "stdout",
     "output_type": "stream",
     "text": [
      "[4, 8]\n",
      "4\n"
     ]
    }
   ],
   "source": [
    "from functools import reduce\n",
    "li=[1,2,3,4]\n",
    "x=map(lambda x:x*2,li)\n",
    "ty=list(x)\n",
    "y=filter(lambda x:(x%4==0) ,ty)\n",
    "print(list(y))\n",
    "z=reduce((lambda x,y: max(x,y)),li)\n",
    "print((z))"
   ]
  },
  {
   "cell_type": "code",
   "execution_count": 13,
   "id": "2913cc11-e6f8-4323-b0ec-9de64fd886a8",
   "metadata": {},
   "outputs": [
    {
     "data": {
      "text/plain": [
       "['GenericAlias',\n",
       " 'RLock',\n",
       " 'WRAPPER_ASSIGNMENTS',\n",
       " 'WRAPPER_UPDATES',\n",
       " '_CacheInfo',\n",
       " '_HashedSeq',\n",
       " '_NOT_FOUND',\n",
       " '__all__',\n",
       " '__builtins__',\n",
       " '__cached__',\n",
       " '__doc__',\n",
       " '__file__',\n",
       " '__loader__',\n",
       " '__name__',\n",
       " '__package__',\n",
       " '__spec__',\n",
       " '_c3_merge',\n",
       " '_c3_mro',\n",
       " '_compose_mro',\n",
       " '_convert',\n",
       " '_find_impl',\n",
       " '_ge_from_gt',\n",
       " '_ge_from_le',\n",
       " '_ge_from_lt',\n",
       " '_gt_from_ge',\n",
       " '_gt_from_le',\n",
       " '_gt_from_lt',\n",
       " '_initial_missing',\n",
       " '_le_from_ge',\n",
       " '_le_from_gt',\n",
       " '_le_from_lt',\n",
       " '_lru_cache_wrapper',\n",
       " '_lt_from_ge',\n",
       " '_lt_from_gt',\n",
       " '_lt_from_le',\n",
       " '_make_key',\n",
       " '_unwrap_partial',\n",
       " 'cache',\n",
       " 'cached_property',\n",
       " 'cmp_to_key',\n",
       " 'get_cache_token',\n",
       " 'lru_cache',\n",
       " 'namedtuple',\n",
       " 'partial',\n",
       " 'partialmethod',\n",
       " 'recursive_repr',\n",
       " 'reduce',\n",
       " 'singledispatch',\n",
       " 'singledispatchmethod',\n",
       " 'total_ordering',\n",
       " 'update_wrapper',\n",
       " 'wraps']"
      ]
     },
     "execution_count": 13,
     "metadata": {},
     "output_type": "execute_result"
    }
   ],
   "source": [
    "import functools\n",
    "dir(functools)\n",
    "dir(functools.reduce())"
   ]
  },
  {
   "cell_type": "code",
   "execution_count": 120,
   "id": "c0d1f679-977f-4d33-b2a0-5599692fb022",
   "metadata": {},
   "outputs": [
    {
     "name": "stdout",
     "output_type": "stream",
     "text": [
      "[85, 65, 74, 23, 14, 41, 1]\n"
     ]
    }
   ],
   "source": [
    "from collections import Counter\n",
    "dir(collections)\n",
    "re=[85,65,74,23,85,14,41,1,1,1]\n",
    "count=Counter(re)\n",
    "s=set()\n",
    "re=filter(lambda x:not(x in s or s.add(x)),re)\n",
    "print(list(re))"
   ]
  },
  {
   "cell_type": "code",
   "execution_count": 150,
   "id": "c659a8ce-64e3-46d7-bd75-550692a19c4a",
   "metadata": {},
   "outputs": [
    {
     "name": "stdout",
     "output_type": "stream",
     "text": [
      "['h#r']\n",
      "['h#r']\n"
     ]
    }
   ],
   "source": [
    "list1=['h','h#r']\n",
    "r=filter(lambda x: len(x)>2 ,list1)\n",
    "print(list(r))\n",
    "ree=filter(lambda x: '#' in x ,list1)\n",
    "print(list(ree))"
   ]
  },
  {
   "cell_type": "code",
   "execution_count": 158,
   "id": "4158ee59-7fde-4052-acc5-5a6cee73e2dc",
   "metadata": {},
   "outputs": [
    {
     "name": "stdout",
     "output_type": "stream",
     "text": [
      "[1, 2, 2, 2, 2, 2, 3, 5, 6, 4, 4, 4]\n"
     ]
    }
   ],
   "source": [
    "l1=[1,2,2,2,2,2,3,5,6,4,4,4]\n",
    "se=set(l1)\n",
    "f=filter(lambda x : x in se,l1)\n",
    "print(list(f))"
   ]
  },
  {
   "cell_type": "code",
   "execution_count": 160,
   "id": "0413997b-39ae-4465-8b22-8bc4e728adbf",
   "metadata": {},
   "outputs": [
    {
     "data": {
      "text/plain": [
       "{1, 2, 3, 4, 5, 6}"
      ]
     },
     "execution_count": 160,
     "metadata": {},
     "output_type": "execute_result"
    }
   ],
   "source": [
    "l1=[1,2,2,2,2,2,3,5,6,4,4,4]\n",
    "se=set(l1)\n",
    "se"
   ]
  },
  {
   "cell_type": "code",
   "execution_count": null,
   "id": "6e922dac-6251-49ab-ad2b-f2115a367f70",
   "metadata": {},
   "outputs": [],
   "source": []
  }
 ],
 "metadata": {
  "kernelspec": {
   "display_name": "Python 3 (ipykernel)",
   "language": "python",
   "name": "python3"
  },
  "language_info": {
   "codemirror_mode": {
    "name": "ipython",
    "version": 3
   },
   "file_extension": ".py",
   "mimetype": "text/x-python",
   "name": "python",
   "nbconvert_exporter": "python",
   "pygments_lexer": "ipython3",
   "version": "3.11.7"
  }
 },
 "nbformat": 4,
 "nbformat_minor": 5
}
