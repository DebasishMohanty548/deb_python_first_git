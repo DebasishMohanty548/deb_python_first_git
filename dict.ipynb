{
 "cells": [
  {
   "cell_type": "code",
   "execution_count": 13,
   "id": "c4fb5bf7-c275-45c1-9581-4304e7356383",
   "metadata": {},
   "outputs": [
    {
     "data": {
      "text/plain": [
       "({'Manish': 25, 'Shubam': 20, 'Govindh': 15},\n",
       " {25: 'Ajay', 30: 'Ajay'},\n",
       " {'Fruites': ['Apple', 'Cherry']})"
      ]
     },
     "execution_count": 13,
     "metadata": {},
     "output_type": "execute_result"
    }
   ],
   "source": [
    "d1={'Manish':25,'Shubam':20,'Govindh':15}\n",
    "d2={'Manish':'25','Shubam':'20','Govindh':'15'} \n",
    "d3={25:'Manish',20:'Shubam',15:'Govindh'} \n",
    "d4={25:50} \n",
    "d5={'Fruites':['Apple','Cherry']} \n",
    "#d6={['Apple','Cherry']:'Fruites'} \n",
    "d7={'Ajay':25,'Ajay':30}\n",
    "d8={25:'Ajay',30:'Ajay'} \n",
    "#d6 error\n",
    "d1,d8,d5"
   ]
  },
  {
   "cell_type": "code",
   "execution_count": 15,
   "id": "b6693d75-012d-4a4e-9b82-6f9de7ed4d77",
   "metadata": {},
   "outputs": [
    {
     "data": {
      "text/plain": [
       "({'Manish': '25', 'Shubam': '20', 'Govindh': '15'},\n",
       " {25: 'Manish', 20: 'Shubam', 15: 'Govindh'},\n",
       " {25: 50},\n",
       " {'Fruites': ['Apple', 'Cherry']},\n",
       " {'Ajay': 30})"
      ]
     },
     "execution_count": 15,
     "metadata": {},
     "output_type": "execute_result"
    }
   ],
   "source": [
    "d2,d3,d4,d5,d7"
   ]
  },
  {
   "cell_type": "code",
   "execution_count": 19,
   "id": "a0033ec3-34cd-4249-9742-8014edb9a433",
   "metadata": {},
   "outputs": [
    {
     "name": "stdout",
     "output_type": "stream",
     "text": [
      "25\n"
     ]
    }
   ],
   "source": [
    "print(d1['Manish'])"
   ]
  },
  {
   "cell_type": "code",
   "execution_count": 21,
   "id": "a31fa75c-97ed-4e00-87eb-4642260fe715",
   "metadata": {},
   "outputs": [
    {
     "name": "stdout",
     "output_type": "stream",
     "text": [
      "Manish\n",
      "Shubam\n",
      "Govindh\n"
     ]
    }
   ],
   "source": [
    "for i in d1:\n",
    "    print(i)"
   ]
  },
  {
   "cell_type": "code",
   "execution_count": 27,
   "id": "8676ee21-9db8-45a5-afc1-2512a32f31a8",
   "metadata": {},
   "outputs": [
    {
     "name": "stdout",
     "output_type": "stream",
     "text": [
      "Manish 25\n",
      "Shubam 20\n",
      "Govindh 15\n"
     ]
    }
   ],
   "source": [
    "for i,k in d1.items():\n",
    "    print(i,k)"
   ]
  },
  {
   "cell_type": "code",
   "execution_count": 29,
   "id": "fdd8ffb8-ebc8-4f10-a775-497f250ef84b",
   "metadata": {},
   "outputs": [
    {
     "data": {
      "text/plain": [
       "['__class__',\n",
       " '__class_getitem__',\n",
       " '__contains__',\n",
       " '__delattr__',\n",
       " '__delitem__',\n",
       " '__dir__',\n",
       " '__doc__',\n",
       " '__eq__',\n",
       " '__format__',\n",
       " '__ge__',\n",
       " '__getattribute__',\n",
       " '__getitem__',\n",
       " '__getstate__',\n",
       " '__gt__',\n",
       " '__hash__',\n",
       " '__init__',\n",
       " '__init_subclass__',\n",
       " '__ior__',\n",
       " '__iter__',\n",
       " '__le__',\n",
       " '__len__',\n",
       " '__lt__',\n",
       " '__ne__',\n",
       " '__new__',\n",
       " '__or__',\n",
       " '__reduce__',\n",
       " '__reduce_ex__',\n",
       " '__repr__',\n",
       " '__reversed__',\n",
       " '__ror__',\n",
       " '__setattr__',\n",
       " '__setitem__',\n",
       " '__sizeof__',\n",
       " '__str__',\n",
       " '__subclasshook__',\n",
       " 'clear',\n",
       " 'copy',\n",
       " 'fromkeys',\n",
       " 'get',\n",
       " 'items',\n",
       " 'keys',\n",
       " 'pop',\n",
       " 'popitem',\n",
       " 'setdefault',\n",
       " 'update',\n",
       " 'values']"
      ]
     },
     "execution_count": 29,
     "metadata": {},
     "output_type": "execute_result"
    }
   ],
   "source": [
    "dir(dict)"
   ]
  },
  {
   "cell_type": "code",
   "execution_count": 42,
   "id": "41c1b99f-5849-4bdc-a70c-4a8466538080",
   "metadata": {},
   "outputs": [
    {
     "data": {
      "text/plain": [
       "{'se': 25, 'hn': 54}"
      ]
     },
     "execution_count": 42,
     "metadata": {},
     "output_type": "execute_result"
    }
   ],
   "source": [
    "di=dict(se=25,hn=54)\n",
    "di"
   ]
  },
  {
   "cell_type": "code",
   "execution_count": 56,
   "id": "1bd3de6c-9d3b-492f-9ea0-fb93813c7cc8",
   "metadata": {},
   "outputs": [
    {
     "data": {
      "text/plain": [
       "['le', 'Chey']"
      ]
     },
     "execution_count": 56,
     "metadata": {},
     "output_type": "execute_result"
    }
   ],
   "source": [
    "d5={'Fruites':['Apple','Cherry',['opo','rry',['le','Chey',]]]} \n",
    "d5[\"Fruites\"][2][2]"
   ]
  },
  {
   "cell_type": "code",
   "execution_count": 82,
   "id": "e4d53562-7d9d-41dd-bd39-9154e9fcc722",
   "metadata": {},
   "outputs": [
    {
     "data": {
      "text/plain": [
       "1"
      ]
     },
     "execution_count": 82,
     "metadata": {},
     "output_type": "execute_result"
    }
   ],
   "source": [
    "d1={'Fruites':{'Mango':{'Benganpalli':{'Nagpur market':{'MH':{'Shivaji':[1,2]}}}}}}\n",
    "d1['Fruites']['Mango']['Benganpalli']['Nagpur market']['MH']['Shivaji'][0]\n"
   ]
  },
  {
   "cell_type": "code",
   "execution_count": 84,
   "id": "fdf33dba-581d-4d28-85dd-9002291d217e",
   "metadata": {},
   "outputs": [
    {
     "data": {
      "text/plain": [
       "1"
      ]
     },
     "execution_count": 84,
     "metadata": {},
     "output_type": "execute_result"
    }
   ],
   "source": [
    "d1={'Fruites':{'Mango':{'Benganpalli':{'Nagpur market':{'MH':{'Shivaji':[1,2]}}}}}}\n",
    "d1['Fruites']['Mango']['Benganpalli']['Nagpur market']['MH']['Shivaji'][0]\n"
   ]
  },
  {
   "cell_type": "code",
   "execution_count": 86,
   "id": "18cee006-46d2-4ac4-a11a-5bd017aa828a",
   "metadata": {},
   "outputs": [
    {
     "data": {
      "text/plain": [
       "{}"
      ]
     },
     "execution_count": 86,
     "metadata": {},
     "output_type": "execute_result"
    }
   ],
   "source": [
    "d100={}\n",
    "d100"
   ]
  },
  {
   "cell_type": "code",
   "execution_count": 242,
   "id": "5cdd825e-5811-4ca5-b137-99493554f042",
   "metadata": {},
   "outputs": [
    {
     "data": {
      "text/plain": [
       "{'m': 2, 'k': 1}"
      ]
     },
     "execution_count": 242,
     "metadata": {},
     "output_type": "execute_result"
    }
   ],
   "source": [
    "q1=['m','k']\n",
    "q2=[2,1]\n",
    "x=dict(zip(q1,q2))\n",
    "x"
   ]
  },
  {
   "cell_type": "code",
   "execution_count": 102,
   "id": "0c0b754c-bc30-4351-a526-1c7e1c7e5b48",
   "metadata": {},
   "outputs": [
    {
     "name": "stdout",
     "output_type": "stream",
     "text": [
      "{'m': 2, 'k': 1, 'l': 3}\n"
     ]
    }
   ],
   "source": [
    "x.get('p')\n",
    "print(x)"
   ]
  },
  {
   "cell_type": "code",
   "execution_count": 98,
   "id": "82e6bd0e-911d-4f1b-be7e-3b3cbcc08b54",
   "metadata": {},
   "outputs": [
    {
     "name": "stdout",
     "output_type": "stream",
     "text": [
      "{'m': 2, 'k': 1, 'l': 3}\n"
     ]
    }
   ],
   "source": [
    "x.setdefault('l',3)\n",
    "print(x)"
   ]
  },
  {
   "cell_type": "code",
   "execution_count": 122,
   "id": "7031962b-7827-4427-82f4-3713fb5edb29",
   "metadata": {},
   "outputs": [
    {
     "name": "stdout",
     "output_type": "stream",
     "text": [
      "{'m': 2, 'k': 1, 'l': 30}\n"
     ]
    }
   ],
   "source": [
    "x.update({'l':30})\n",
    "print(x)"
   ]
  },
  {
   "cell_type": "code",
   "execution_count": 112,
   "id": "c89439da-b8b0-4b69-85c8-9aca76c3af01",
   "metadata": {},
   "outputs": [
    {
     "name": "stdout",
     "output_type": "stream",
     "text": [
      "[('m', 2), ('k', 1), ('l', 3)]\n"
     ]
    },
    {
     "data": {
      "text/plain": [
       "([2, 1, 3], ['m', 'k', 'l'])"
      ]
     },
     "execution_count": 112,
     "metadata": {},
     "output_type": "execute_result"
    }
   ],
   "source": [
    "n=[]\n",
    "d=[]\n",
    "xx=list(x.items())\n",
    "print(xx)\n",
    "for i in xx:\n",
    "    n.append(i[0])\n",
    "    d.append(i[1])\n",
    "\n",
    "d,n"
   ]
  },
  {
   "cell_type": "code",
   "execution_count": 148,
   "id": "58511ea0-1933-496a-af3e-e9dc3fc8edc5",
   "metadata": {},
   "outputs": [
    {
     "data": {
      "text/plain": [
       "['__class__',\n",
       " '__class_getitem__',\n",
       " '__contains__',\n",
       " '__delattr__',\n",
       " '__delitem__',\n",
       " '__dir__',\n",
       " '__doc__',\n",
       " '__eq__',\n",
       " '__format__',\n",
       " '__ge__',\n",
       " '__getattribute__',\n",
       " '__getitem__',\n",
       " '__getstate__',\n",
       " '__gt__',\n",
       " '__hash__',\n",
       " '__init__',\n",
       " '__init_subclass__',\n",
       " '__ior__',\n",
       " '__iter__',\n",
       " '__le__',\n",
       " '__len__',\n",
       " '__lt__',\n",
       " '__ne__',\n",
       " '__new__',\n",
       " '__or__',\n",
       " '__reduce__',\n",
       " '__reduce_ex__',\n",
       " '__repr__',\n",
       " '__reversed__',\n",
       " '__ror__',\n",
       " '__setattr__',\n",
       " '__setitem__',\n",
       " '__sizeof__',\n",
       " '__str__',\n",
       " '__subclasshook__',\n",
       " 'clear',\n",
       " 'copy',\n",
       " 'fromkeys',\n",
       " 'get',\n",
       " 'items',\n",
       " 'keys',\n",
       " 'pop',\n",
       " 'popitem',\n",
       " 'setdefault',\n",
       " 'update',\n",
       " 'values']"
      ]
     },
     "execution_count": 148,
     "metadata": {},
     "output_type": "execute_result"
    }
   ],
   "source": [
    "dir(string)\n",
    "dir(dict)"
   ]
  },
  {
   "cell_type": "code",
   "execution_count": 236,
   "id": "3be56cbb-a734-4212-ace3-763c7591731d",
   "metadata": {},
   "outputs": [
    {
     "name": "stdin",
     "output_type": "stream",
     "text": [
      " hai\n"
     ]
    },
    {
     "name": "stdout",
     "output_type": "stream",
     "text": [
      "8-1-9\n"
     ]
    }
   ],
   "source": [
    "import string\n",
    "digit=[i for i in range(1,27)]\n",
    "letter=list(string.ascii_lowercase)\n",
    "d9=dict(zip(letter,digit))\n",
    "user=input()\n",
    "lis=[]\n",
    "for i in user:   \n",
    "    lis.append(str(d9[i]))\n",
    "print('-'.join(lis))    "
   ]
  },
  {
   "cell_type": "code",
   "execution_count": 240,
   "id": "355a3238-0ded-4cf8-ac95-c234953ef312",
   "metadata": {},
   "outputs": [
    {
     "name": "stdin",
     "output_type": "stream",
     "text": [
      " hai\n"
     ]
    },
    {
     "name": "stdout",
     "output_type": "stream",
     "text": [
      "8-1-9\n"
     ]
    }
   ],
   "source": [
    "digit=[i for i in range(1,27)]\n",
    "letter=[chr(i) for i in range(ord('a'),1+ord('z'))]\n",
    "d9=dict(zip(letter,digit))\n",
    "user=input()\n",
    "lis=[]\n",
    "for i in user:   \n",
    "    lis.append(str(d9[i]))\n",
    "print('-'.join(lis))  "
   ]
  },
  {
   "cell_type": "code",
   "execution_count": 272,
   "id": "50c65b18-5b38-4ed0-9046-4597744196ca",
   "metadata": {},
   "outputs": [
    {
     "name": "stdout",
     "output_type": "stream",
     "text": [
      "None\n",
      "{'p': 5, 'k': 7, 'zop': 63}\n"
     ]
    }
   ],
   "source": [
    "soumya={'p':5,'k':7}\n",
    "print(soumya.get('z'))\n",
    "soumya.update({'zop':63})\n",
    "print(soumya)"
   ]
  },
  {
   "cell_type": "code",
   "execution_count": 268,
   "id": "5f3f9014-4fa8-4c79-9e19-8ff1c78625d7",
   "metadata": {},
   "outputs": [
    {
     "name": "stdout",
     "output_type": "stream",
     "text": [
      "None\n",
      "7\n"
     ]
    }
   ],
   "source": [
    "soumy={'p':5,'k':7}\n",
    "print(soumy.setdefault('z'))\n",
    "print(soumy.pop('k'))"
   ]
  },
  {
   "cell_type": "code",
   "execution_count": 282,
   "id": "23592ab3-3f7c-43f4-a1da-40bb4cf3fb19",
   "metadata": {},
   "outputs": [
    {
     "name": "stdout",
     "output_type": "stream",
     "text": [
      "{'a': 5, 'b': 5}\n"
     ]
    }
   ],
   "source": [
    "D=('a','b')\n",
    "I=5\n",
    "dop=dict.fromkeys(D,I)\n",
    "print(dop)"
   ]
  },
  {
   "cell_type": "code",
   "execution_count": null,
   "id": "ff74f807-1f63-4656-8cb2-777c72a63887",
   "metadata": {},
   "outputs": [],
   "source": []
  }
 ],
 "metadata": {
  "kernelspec": {
   "display_name": "Python 3 (ipykernel)",
   "language": "python",
   "name": "python3"
  },
  "language_info": {
   "codemirror_mode": {
    "name": "ipython",
    "version": 3
   },
   "file_extension": ".py",
   "mimetype": "text/x-python",
   "name": "python",
   "nbconvert_exporter": "python",
   "pygments_lexer": "ipython3",
   "version": "3.11.7"
  }
 },
 "nbformat": 4,
 "nbformat_minor": 5
}
