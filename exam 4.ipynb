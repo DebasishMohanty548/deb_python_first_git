{
 "cells": [
  {
   "cell_type": "markdown",
   "id": "22a21d6b-5169-49d2-ada5-401c9bddcd22",
   "metadata": {},
   "source": [
    "Q-1 Write a Python Program to Check Leap Year.\n",
    "Q-2 Write a Python Program to Check Prime Number.\n",
    "Q-3 Write a Python Program to Display the multiplication Table.\n",
    "Q-4 Write a Python program to convert kilometers to miles.\n",
    "1km =0.621371\n",
    "Q-5 Write a Python program to convert Celsius to Fahrenheit.\n",
    "Formula = (celsius * 9/5) + 32"
   ]
  },
  {
   "cell_type": "code",
   "execution_count": 6,
   "id": "5392d1a4-6c3a-4688-9faf-e846433dfa51",
   "metadata": {},
   "outputs": [
    {
     "name": "stdin",
     "output_type": "stream",
     "text": [
      "enter year:  2023\n"
     ]
    },
    {
     "name": "stdout",
     "output_type": "stream",
     "text": [
      "not a leap year\n"
     ]
    }
   ],
   "source": [
    "def leap(n):\n",
    "    if (n%400==0)and(n%100==0):\n",
    "        print(\"leap year\")\n",
    "    elif (n%4==0)and(n%100!=0):\n",
    "        print(\"leap year\")\n",
    "    else:\n",
    "        print(\"not a leap year\")\n",
    "n=int(input(\"enter year: \"))\n",
    "leap(n)\n",
    "    "
   ]
  },
  {
   "cell_type": "code",
   "execution_count": 46,
   "id": "a1aa6fd9-0996-4671-881e-5396eed815a4",
   "metadata": {},
   "outputs": [
    {
     "name": "stdin",
     "output_type": "stream",
     "text": [
      "enter :  4\n"
     ]
    },
    {
     "name": "stdout",
     "output_type": "stream",
     "text": [
      "not a prime number\n"
     ]
    }
   ],
   "source": [
    "def prime(n):\n",
    "    f=False\n",
    "    if n<0:\n",
    "        print(\"invalid\")\n",
    "    elif n==1:\n",
    "        print('1 is',end=' ')\n",
    "    else:\n",
    "        for i in range(2,n):\n",
    "            if n%i==0:\n",
    "                f=True\n",
    "                break\n",
    "            else:\n",
    "                f=False\n",
    "    if f==True:\n",
    "        print('not a prime number')\n",
    "    else:\n",
    "        print('prime number')\n",
    "n=int(input(\"enter : \"))\n",
    "prime(n)\n"
   ]
  },
  {
   "cell_type": "code",
   "execution_count": 48,
   "id": "593e1fd9-1ad9-4bd3-8270-ef41e272dc1f",
   "metadata": {},
   "outputs": [
    {
     "name": "stdin",
     "output_type": "stream",
     "text": [
      "enter :  5\n"
     ]
    },
    {
     "name": "stdout",
     "output_type": "stream",
     "text": [
      "5*1=5\n",
      "5*2=10\n",
      "5*3=15\n",
      "5*4=20\n",
      "5*5=25\n",
      "5*6=30\n",
      "5*7=35\n",
      "5*8=40\n",
      "5*9=45\n",
      "5*10=50\n"
     ]
    }
   ],
   "source": [
    "n=int(input('enter : '))\n",
    "for i in range(1,11):\n",
    "    print(f'{n}*{i}={n*i}')"
   ]
  },
  {
   "cell_type": "code",
   "execution_count": 50,
   "id": "2b8c8faa-0c74-4f83-a69d-8c6e3fb1a45f",
   "metadata": {},
   "outputs": [
    {
     "name": "stdin",
     "output_type": "stream",
     "text": [
      "enter km :  5\n"
     ]
    },
    {
     "name": "stdout",
     "output_type": "stream",
     "text": [
      "miles = 3.106855\n"
     ]
    }
   ],
   "source": [
    "n=int(input('enter km : '))\n",
    "print(f'miles = {n*0.621371}')"
   ]
  },
  {
   "cell_type": "code",
   "execution_count": 54,
   "id": "45d817f6-1918-4650-af57-b142bdae31b3",
   "metadata": {},
   "outputs": [
    {
     "name": "stdin",
     "output_type": "stream",
     "text": [
      "enter temp in celcius :  37\n"
     ]
    },
    {
     "name": "stdout",
     "output_type": "stream",
     "text": [
      "fahrenheit = 98.6\n"
     ]
    }
   ],
   "source": [
    "n=int(input('enter temp in celcius : '))\n",
    "print(f'fahrenheit = {(n * 9/5) + 32}')"
   ]
  },
  {
   "cell_type": "code",
   "execution_count": 2,
   "id": "680de743-5a4d-4d9f-9dfe-48b4dd701563",
   "metadata": {},
   "outputs": [
    {
     "name": "stdout",
     "output_type": "stream",
     "text": [
      "Hello12.5\n"
     ]
    }
   ],
   "source": [
    "a = 5\n",
    "b = 2.5\n",
    "c = 'Hello'\n",
    "result = a * b\n",
    "print(c + str(result))\n",
    "\n"
   ]
  },
  {
   "cell_type": "code",
   "execution_count": 8,
   "id": "5512a8ec-9eed-47f4-9fb1-36ff2b3bd10f",
   "metadata": {},
   "outputs": [
    {
     "name": "stdout",
     "output_type": "stream",
     "text": [
      "PythonPythonPython is amazing!\n"
     ]
    }
   ],
   "source": [
    "\tS1 = 'Python'\n",
    "\tS2 = ' is amazing!'\n",
    "\tresult = S1*3 + S2\n",
    "\tprint(result)\n"
   ]
  },
  {
   "cell_type": "code",
   "execution_count": 10,
   "id": "2366e283-57fe-418e-a341-9a186fa3286d",
   "metadata": {},
   "outputs": [
    {
     "data": {
      "text/plain": [
       "8"
      ]
     },
     "execution_count": 10,
     "metadata": {},
     "output_type": "execute_result"
    }
   ],
   "source": [
    "25//3"
   ]
  },
  {
   "cell_type": "code",
   "execution_count": 18,
   "id": "b8117b0f-2e0e-43c0-8c48-d09cd1db2427",
   "metadata": {},
   "outputs": [
    {
     "data": {
      "text/plain": [
       "[1, 2, 4]"
      ]
     },
     "execution_count": 18,
     "metadata": {},
     "output_type": "execute_result"
    }
   ],
   "source": [
    "f=[1,2,3]\n",
    "f.append(4)\n",
    "f.pop(2)\n",
    "f"
   ]
  },
  {
   "cell_type": "code",
   "execution_count": 28,
   "id": "5fedf583-cbd5-486b-a393-95c7d3a6bfb6",
   "metadata": {},
   "outputs": [
    {
     "data": {
      "text/plain": [
       "{'x': 5, 'y': 100}"
      ]
     },
     "execution_count": 28,
     "metadata": {},
     "output_type": "execute_result"
    }
   ],
   "source": [
    "p={'x':5 ,'y':8}\n",
    "p['y']=100\n",
    "p"
   ]
  },
  {
   "cell_type": "code",
   "execution_count": null,
   "id": "48ff1292-e0af-4e24-93b7-038d5a6b3e84",
   "metadata": {},
   "outputs": [],
   "source": [
    "\n"
   ]
  },
  {
   "cell_type": "code",
   "execution_count": null,
   "id": "af1f5d8c-9e34-4d33-b94c-8d73338372be",
   "metadata": {},
   "outputs": [],
   "source": []
  },
  {
   "cell_type": "code",
   "execution_count": null,
   "id": "e6c7b6ba-4398-42e0-8992-1e55124b0c07",
   "metadata": {},
   "outputs": [],
   "source": []
  },
  {
   "cell_type": "code",
   "execution_count": null,
   "id": "d8223175-13cf-44de-b61a-c8a2647cb2d0",
   "metadata": {},
   "outputs": [],
   "source": []
  }
 ],
 "metadata": {
  "kernelspec": {
   "display_name": "Python 3 (ipykernel)",
   "language": "python",
   "name": "python3"
  },
  "language_info": {
   "codemirror_mode": {
    "name": "ipython",
    "version": 3
   },
   "file_extension": ".py",
   "mimetype": "text/x-python",
   "name": "python",
   "nbconvert_exporter": "python",
   "pygments_lexer": "ipython3",
   "version": "3.11.7"
  }
 },
 "nbformat": 4,
 "nbformat_minor": 5
}
