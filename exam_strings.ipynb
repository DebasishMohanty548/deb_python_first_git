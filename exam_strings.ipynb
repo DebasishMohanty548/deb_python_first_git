{
 "cells": [
  {
   "cell_type": "markdown",
   "id": "044e6c7c-1526-4548-a1a7-7ddce93dd001",
   "metadata": {},
   "source": [
    "1. How to reverse the string without using method?\n",
    "2. Difference between string method and string function with example.\n",
    "3. Explain 10 string function.\n",
    "4. Whether String is mutable or immutable? Explain with example.\n",
    "5. Write a syntax for string slicing with example."
   ]
  },
  {
   "cell_type": "code",
   "execution_count": 2,
   "id": "d73bf1b9-c795-4803-a021-37aa3d1305f9",
   "metadata": {},
   "outputs": [
    {
     "name": "stdin",
     "output_type": "stream",
     "text": [
      "Enter :  abcd\n"
     ]
    },
    {
     "name": "stdout",
     "output_type": "stream",
     "text": [
      "dcba\n"
     ]
    }
   ],
   "source": [
    "x=input(\"Enter : \")\n",
    "rev=x[::-1]\n",
    "print(rev)"
   ]
  },
  {
   "cell_type": "code",
   "execution_count": 3,
   "id": "9f5e7490-8ebe-489f-8816-b7f4794e8beb",
   "metadata": {},
   "outputs": [
    {
     "name": "stdout",
     "output_type": "stream",
     "text": [
      "1234\n",
      "4\n",
      "1234\n",
      "<class 'str'>\n",
      "DEBASISH\n",
      "Debasish\n"
     ]
    }
   ],
   "source": [
    "#string functions are used upon string objects, they call the string instance and apply changes to it.\n",
    "st='1234'\n",
    "print(st)\n",
    "print(len(st))\n",
    "print(int(st))\n",
    "print(type(st))\n",
    "#string methods are standalone functions that apply changes to the string.\n",
    "s='debasish'\n",
    "print(s.upper())\n",
    "print(s.capitalize())"
   ]
  },
  {
   "cell_type": "code",
   "execution_count": 16,
   "id": "a13dbac7-25ef-4572-9191-9f013cc8c79f",
   "metadata": {},
   "outputs": [
    {
     "name": "stdout",
     "output_type": "stream",
     "text": [
      "d eb ais h     \n",
      "D EB AIS H     \n",
      "D eb ais h     \n",
      "False\n",
      "False\n",
      "['d', 'eb', 'ais', 'h']\n",
      "d eb ais h     \n",
      "d ev ais h     \n",
      "5\n",
      "D EB AIS H     \n"
     ]
    }
   ],
   "source": [
    "string='d eb ais h     '\n",
    "print(string.lower())\n",
    "print(string.upper())\n",
    "print(string.capitalize())\n",
    "print(string.isalnum())\n",
    "print(string.isdigit())\n",
    "print(string.split())\n",
    "a=string.strip('a')\n",
    "print(a)\n",
    "print(string.replace('b','v'))\n",
    "print(string.find('a'))\n",
    "print(string.swapcase())\n",
    "\n"
   ]
  },
  {
   "cell_type": "code",
   "execution_count": 5,
   "id": "74b11210-f4d3-4d7f-b49f-1d528d8f6693",
   "metadata": {},
   "outputs": [
    {
     "name": "stdout",
     "output_type": "stream",
     "text": [
      "['a', 'e', 'i', 'o', 'u']\n",
      "['a', 'q', 'i', 'o', 'u']\n",
      "aqiou\n"
     ]
    }
   ],
   "source": [
    "#string is immutable.\n",
    "ed='a e i o u'\n",
    "#ed[1]='q' throws error\n",
    "#however string can be mutated using list\n",
    "x=ed.split()\n",
    "print(x)\n",
    "x[1]='q'\n",
    "print(x)\n",
    "print(''.join(x))"
   ]
  },
  {
   "cell_type": "code",
   "execution_count": 6,
   "id": "5fd51207-efad-4237-964d-2ef046249c6f",
   "metadata": {},
   "outputs": [
    {
     "name": "stdout",
     "output_type": "stream",
     "text": [
      "python \n",
      "classes\n",
      "s\n",
      "sessalc nohtyp\n"
     ]
    }
   ],
   "source": [
    "#string slicing\n",
    "strings='python classes'\n",
    "print(strings[0:7])\n",
    "print(strings[7:len(strings)])\n",
    "print(strings[-1:])\n",
    "print(strings[::-1])"
   ]
  },
  {
   "cell_type": "code",
   "execution_count": 34,
   "id": "7357dace-060f-46fa-a6c8-72297a811fe8",
   "metadata": {},
   "outputs": [
    {
     "name": "stdout",
     "output_type": "stream",
     "text": [
      "banana\n"
     ]
    }
   ],
   "source": [
    "t=' banana   '\n",
    "p=t.strip()\n",
    "print(p)"
   ]
  },
  {
   "cell_type": "code",
   "execution_count": null,
   "id": "9e5ea826-3555-4543-ba22-d6e2c8d621cc",
   "metadata": {},
   "outputs": [],
   "source": []
  },
  {
   "cell_type": "code",
   "execution_count": null,
   "id": "43363807-898f-41a6-944b-4a01e2663eed",
   "metadata": {},
   "outputs": [],
   "source": []
  },
  {
   "cell_type": "code",
   "execution_count": null,
   "id": "98109f08-45ee-4a84-a8e3-26db3d7e6f5a",
   "metadata": {},
   "outputs": [],
   "source": []
  }
 ],
 "metadata": {
  "kernelspec": {
   "display_name": "Python 3 (ipykernel)",
   "language": "python",
   "name": "python3"
  },
  "language_info": {
   "codemirror_mode": {
    "name": "ipython",
    "version": 3
   },
   "file_extension": ".py",
   "mimetype": "text/x-python",
   "name": "python",
   "nbconvert_exporter": "python",
   "pygments_lexer": "ipython3",
   "version": "3.11.7"
  }
 },
 "nbformat": 4,
 "nbformat_minor": 5
}
