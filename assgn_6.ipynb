{
 "cells": [
  {
   "cell_type": "markdown",
   "id": "35c20881-4293-4c62-a92b-23d55d9ffce3",
   "metadata": {},
   "source": [
    "# Q1) Create a function read three numbers find the average"
   ]
  },
  {
   "cell_type": "code",
   "execution_count": 7,
   "id": "cbf0bea2-976d-47fc-b402-b17e3f0de346",
   "metadata": {},
   "outputs": [
    {
     "name": "stdin",
     "output_type": "stream",
     "text": [
      "Enter :  5\n",
      "Enter :  5\n",
      "Enter :  5\n"
     ]
    },
    {
     "name": "stdout",
     "output_type": "stream",
     "text": [
      "5.0\n"
     ]
    }
   ],
   "source": [
    "def average():\n",
    "    n1=eval(input(\"Enter : \")) #inside the function block thats why these are local variables\n",
    "    n2=eval(input(\"Enter : \"))\n",
    "    n3=eval(input(\"Enter : \"))\n",
    "    sum=n1+n2+n3\n",
    "    avg=sum/3\n",
    "    return round(avg,3)\n",
    "x=average()\n",
    "print(x)"
   ]
  },
  {
   "cell_type": "markdown",
   "id": "bb37c0db-1dc4-49e5-9a9c-bd91201dd8a3",
   "metadata": {},
   "source": [
    "Q2) Create a function ask the user enter the bill amount\n",
    "      # enter the tip per\n",
    "      # calculate total bill pay"
   ]
  },
  {
   "cell_type": "code",
   "execution_count": 8,
   "id": "05830296-9568-419a-8735-329749aa1071",
   "metadata": {},
   "outputs": [
    {
     "name": "stdin",
     "output_type": "stream",
     "text": [
      "Enter bill amount :  100\n",
      "Enter tip percentage   :  10\n"
     ]
    },
    {
     "name": "stdout",
     "output_type": "stream",
     "text": [
      "110.0\n"
     ]
    }
   ],
   "source": [
    "def bill():\n",
    "    n1=eval(input(\"Enter bill amount : \"))\n",
    "    n2=eval(input(\"Enter tip percentage   : \"))\n",
    "    tp=(n2/100)*n1\n",
    "    total=tp+n1\n",
    "    return total\n",
    "x=bill()\n",
    "print(x) "
   ]
  },
  {
   "cell_type": "markdown",
   "id": "34b009fb-5d86-4ae1-a1b5-d4f29d332ee8",
   "metadata": {},
   "source": [
    "Q3) Create a function ask the user enter enter radius\n",
    "     # calculate the area of the circle"
   ]
  },
  {
   "cell_type": "code",
   "execution_count": 17,
   "id": "24afdf60-6cfe-4e68-a636-337f4cdcd373",
   "metadata": {},
   "outputs": [
    {
     "name": "stdin",
     "output_type": "stream",
     "text": [
      "Enter radius :  5\n"
     ]
    },
    {
     "name": "stdout",
     "output_type": "stream",
     "text": [
      "78.53981633974483\n"
     ]
    }
   ],
   "source": [
    "import math\n",
    "def a():\n",
    "    n1=eval(input(\"Enter radius : \")) \n",
    "    ar=math.pi*n1*n1\n",
    "    return ar\n",
    "r=a()\n",
    "print(r)\n",
    "    "
   ]
  },
  {
   "cell_type": "markdown",
   "id": "df7ba3f2-47f0-434c-bd95-fbbeeb5194c0",
   "metadata": {},
   "source": [
    "Q4) Create a function ask the user enter breadth and height\n",
    "    # calculate area of the traingle"
   ]
  },
  {
   "cell_type": "code",
   "execution_count": 20,
   "id": "be9ff3d2-368c-4ee1-9500-7a40d2448b08",
   "metadata": {},
   "outputs": [
    {
     "name": "stdin",
     "output_type": "stream",
     "text": [
      "Enter length :  2\n",
      "Enter breath :  3\n"
     ]
    },
    {
     "name": "stdout",
     "output_type": "stream",
     "text": [
      "6\n"
     ]
    }
   ],
   "source": [
    "def a():\n",
    "    n1=eval(input(\"Enter length : \")) \n",
    "    n2=eval(input(\"Enter breath : \")) \n",
    "    return (n1*n2)\n",
    "x=a()\n",
    "print(x)\n"
   ]
  },
  {
   "cell_type": "markdown",
   "id": "d0022266-775f-4c5a-a7b6-6da53fbedf6c",
   "metadata": {},
   "source": [
    " Q5) Create a function ask the user enter a number find it is even or odd"
   ]
  },
  {
   "cell_type": "code",
   "execution_count": 3,
   "id": "9a1a743b-fc58-41d2-9777-3e3ffd34a90d",
   "metadata": {},
   "outputs": [
    {
     "name": "stdin",
     "output_type": "stream",
     "text": [
      "Enter a number :  5\n"
     ]
    },
    {
     "data": {
      "text/plain": [
       "'odd number'"
      ]
     },
     "execution_count": 3,
     "metadata": {},
     "output_type": "execute_result"
    }
   ],
   "source": [
    "def oddeven():\n",
    "    n1=eval(input(\"Enter a number : \")) \n",
    "    if n1%2==0:\n",
    "        return \"Even number\"\n",
    "    else:\n",
    "       return \"odd number\"\n",
    "oddeven()        \n",
    "    "
   ]
  },
  {
   "cell_type": "markdown",
   "id": "8b0f512d-121f-4e95-8b14-0d5057a641a7",
   "metadata": {},
   "source": [
    "Q6) create a function ask the user enter number find it is postive or ngeative or zero"
   ]
  },
  {
   "cell_type": "code",
   "execution_count": 25,
   "id": "8f52652c-1cc8-4320-8cbb-82e48d8b6ad2",
   "metadata": {},
   "outputs": [
    {
     "name": "stdin",
     "output_type": "stream",
     "text": [
      "Enter a number :  0\n"
     ]
    },
    {
     "name": "stdout",
     "output_type": "stream",
     "text": [
      "zero\n"
     ]
    }
   ],
   "source": [
    "def num1():\n",
    "    n1=eval(input(\"Enter a number : \")) \n",
    "    if n1>0:\n",
    "        return 1       \n",
    "    elif n1<0:\n",
    "        return 2       \n",
    "    else:\n",
    "        return 0 \n",
    "x=num1()\n",
    "if x==1:\n",
    "    print(\"positive number\")\n",
    "elif x==2:\n",
    "    print(\"negative number\")\n",
    "else:\n",
    "    print(\"zero\")\n",
    "    \n",
    "    "
   ]
  },
  {
   "cell_type": "markdown",
   "id": "71f6cb27-ca6b-46ab-af0d-866cb53892b6",
   "metadata": {},
   "source": [
    "Q7) create a function ask the user enter threes numbers find the greatest number"
   ]
  },
  {
   "cell_type": "code",
   "execution_count": 28,
   "id": "1a3462a7-c797-4411-8e19-6fa5d6c679af",
   "metadata": {},
   "outputs": [
    {
     "name": "stdin",
     "output_type": "stream",
     "text": [
      "Enter 1st no. :  998\n",
      "Enter 2nd no. :  5665\n",
      "Enter 3rd no. :  45\n"
     ]
    },
    {
     "name": "stdout",
     "output_type": "stream",
     "text": [
      "5665 is the greatest\n"
     ]
    }
   ],
   "source": [
    "def gre():\n",
    "    n1=eval(input(\"Enter 1st no. : \")) \n",
    "    n2=eval(input(\"Enter 2nd no. : \"))\n",
    "    n3=eval(input(\"Enter 3rd no. : \"))\n",
    "    if n1>n2 and n1>n3:\n",
    "        greatest=n1\n",
    "        #print(f\"{n1} is the greatest\")\n",
    "    elif n2>n1 and n2>n3:\n",
    "        greatest=n2\n",
    "       # print(f\"{n2} is the greatest\")\n",
    "    else:\n",
    "        greatest=n3\n",
    "        #print(f\"{n3} is  the greatest\")\n",
    "    return greatest\n",
    "x=gre()\n",
    "print(f\"{x} is the greatest\")"
   ]
  },
  {
   "cell_type": "code",
   "execution_count": null,
   "id": "85d787fd-f0b6-4698-afc1-e6cf36ede231",
   "metadata": {},
   "outputs": [],
   "source": []
  }
 ],
 "metadata": {
  "kernelspec": {
   "display_name": "Python 3 (ipykernel)",
   "language": "python",
   "name": "python3"
  },
  "language_info": {
   "codemirror_mode": {
    "name": "ipython",
    "version": 3
   },
   "file_extension": ".py",
   "mimetype": "text/x-python",
   "name": "python",
   "nbconvert_exporter": "python",
   "pygments_lexer": "ipython3",
   "version": "3.11.7"
  }
 },
 "nbformat": 4,
 "nbformat_minor": 5
}
