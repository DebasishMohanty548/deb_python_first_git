{
 "cells": [
  {
   "cell_type": "code",
   "execution_count": 12,
   "id": "c0e8eeb1-87c7-4169-9085-480b47ad2441",
   "metadata": {},
   "outputs": [
    {
     "name": "stdin",
     "output_type": "stream",
     "text": [
      "ENTER TABLE :::-->>   7\n"
     ]
    },
    {
     "name": "stdout",
     "output_type": "stream",
     "text": [
      "7 * 1 = 7\n",
      "7 * 2 = 14\n",
      "7 * 3 = 21\n",
      "7 * 4 = 28\n",
      "7 * 5 = 35\n",
      "7 * 6 = 42\n",
      "7 * 7 = 49\n",
      "7 * 8 = 56\n",
      "7 * 9 = 63\n",
      "7 * 10 = 70\n"
     ]
    }
   ],
   "source": [
    "#wap to create table of num\n",
    "\n",
    "def table():\n",
    "    value=int(input(\"ENTER TABLE :::-->>  \"))\n",
    "    for var in range(1,11):\n",
    "        print(f\"{value} * {var} = {value*var}\")\n",
    "table()"
   ]
  },
  {
   "cell_type": "code",
   "execution_count": 10,
   "id": "d1efbe2c-db1d-460e-9088-34373d9e6c44",
   "metadata": {},
   "outputs": [
    {
     "name": "stdout",
     "output_type": "stream",
     "text": [
      "1\n",
      "2\n",
      "5\n",
      "10\n",
      "25\n",
      "50\n"
     ]
    }
   ],
   "source": [
    "def divisor50():\n",
    "    for start in range(1,51):\n",
    "        if 50%start==0:\n",
    "            print(start)\n",
    "divisor50()"
   ]
  },
  {
   "cell_type": "code",
   "execution_count": 69,
   "id": "ee000852-c4b4-4372-82a4-37ba298041bd",
   "metadata": {},
   "outputs": [
    {
     "name": "stdout",
     "output_type": "stream",
     "text": [
      "[1, 2, 3]\n",
      "6\n"
     ]
    }
   ],
   "source": [
    "def allunique(a):\n",
    "    z=[]\n",
    "    for i in a:\n",
    "        if a.count(i)==1:\n",
    "            z.append(i)\n",
    "    print(z)\n",
    "    s=0\n",
    "    for i in z:\n",
    "        s=s+i\n",
    "    print(s)\n",
    "allunique([1,2,3,4,5,6,4,5,6])\n"
   ]
  },
  {
   "cell_type": "code",
   "execution_count": 59,
   "id": "9d15e026-04c4-44f3-8472-3efa0efef717",
   "metadata": {},
   "outputs": [
    {
     "name": "stdout",
     "output_type": "stream",
     "text": [
      "55\n"
     ]
    }
   ],
   "source": [
    "def su():\n",
    "    su=0\n",
    "    for y in range(11):\n",
    "        su=su+y\n",
    "    print(su)\n",
    "su()"
   ]
  },
  {
   "cell_type": "code",
   "execution_count": 56,
   "id": "ee9c2f3d-205e-4062-9278-5d4dc15e8e7e",
   "metadata": {},
   "outputs": [
    {
     "name": "stdout",
     "output_type": "stream",
     "text": [
      "8\n"
     ]
    }
   ],
   "source": [
    "def unique(arr):\n",
    "    u=0\n",
    "    for i in arr:\n",
    "        u=u^i\n",
    "    print(u)\n",
    "arr=[1,2,8,3,4,1,2,3,4]\n",
    "unique(arr)"
   ]
  },
  {
   "cell_type": "code",
   "execution_count": 71,
   "id": "5f78010f-273d-4995-911e-b373bd0e9be8",
   "metadata": {},
   "outputs": [
    {
     "name": "stdout",
     "output_type": "stream",
     "text": [
      "3\n"
     ]
    }
   ],
   "source": [
    "def fu(a):\n",
    "    for i in a:\n",
    "        if a.count(i)==1:\n",
    "            print(i)\n",
    "            break\n",
    "fu([1,2,3,4,1,2])\n",
    "    "
   ]
  },
  {
   "cell_type": "code",
   "execution_count": 77,
   "id": "3f1ff3a7-946f-4158-953a-d2551ef33d26",
   "metadata": {},
   "outputs": [
    {
     "name": "stdout",
     "output_type": "stream",
     "text": [
      "6\n"
     ]
    }
   ],
   "source": [
    "def divisor50():\n",
    "    z=[]\n",
    "    for start in range(1,51):\n",
    "        if 50%start==0:\n",
    "            z.append(start)\n",
    "    print(len(z))\n",
    "            \n",
    "divisor50()"
   ]
  },
  {
   "cell_type": "code",
   "execution_count": 83,
   "id": "f009dd4d-a69f-4d8c-b651-b22c9c7efbce",
   "metadata": {},
   "outputs": [
    {
     "name": "stdout",
     "output_type": "stream",
     "text": [
      "6\n"
     ]
    }
   ],
   "source": [
    "def count(n):\n",
    "    c=0\n",
    "    for i in range(1,n+1):\n",
    "        if n%i==0:\n",
    "            c=c+1\n",
    "    print(c)\n",
    "count(50)"
   ]
  },
  {
   "cell_type": "code",
   "execution_count": 127,
   "id": "0311cefb-b04a-46a5-9428-50c54a5816b8",
   "metadata": {},
   "outputs": [
    {
     "name": "stdout",
     "output_type": "stream",
     "text": [
      "   A A \n",
      "  B B B B \n",
      " C C C C C C \n",
      "D D D D D D D D \n"
     ]
    }
   ],
   "source": [
    "def pattern(n):\n",
    "    k=ord('A')\n",
    "    for i in range(0,n):\n",
    "        for j in range(2,(n-i)+1):\n",
    "            print(end=\" \")\n",
    "        for j in range(-1,2*i+1):\n",
    "            print(chr(k),end=\" \")\n",
    "        k=k+1\n",
    "        print()\n",
    "pattern(4)\n",
    "    "
   ]
  },
  {
   "cell_type": "code",
   "execution_count": 141,
   "id": "135e3769-202b-4579-bdaf-e1d240a46ffa",
   "metadata": {},
   "outputs": [
    {
     "name": "stdin",
     "output_type": "stream",
     "text": [
      " 8\n"
     ]
    },
    {
     "name": "stdout",
     "output_type": "stream",
     "text": [
      "<bound method Random.randint of <random.Random object at 0x00000247511A9450>>\n",
      "lost\n",
      "no. of chances left =4\n"
     ]
    },
    {
     "name": "stdin",
     "output_type": "stream",
     "text": [
      " 4\n"
     ]
    },
    {
     "name": "stdout",
     "output_type": "stream",
     "text": [
      "<bound method Random.randint of <random.Random object at 0x00000247511A9450>>\n",
      "lost\n",
      "no. of chances left =3\n"
     ]
    },
    {
     "name": "stdin",
     "output_type": "stream",
     "text": [
      " 5\n"
     ]
    },
    {
     "name": "stdout",
     "output_type": "stream",
     "text": [
      "<bound method Random.randint of <random.Random object at 0x00000247511A9450>>\n",
      "lost\n",
      "no. of chances left =2\n"
     ]
    },
    {
     "name": "stdin",
     "output_type": "stream",
     "text": [
      " 5\n"
     ]
    },
    {
     "name": "stdout",
     "output_type": "stream",
     "text": [
      "<bound method Random.randint of <random.Random object at 0x00000247511A9450>>\n",
      "lost\n",
      "no. of chances left =1\n"
     ]
    },
    {
     "name": "stdin",
     "output_type": "stream",
     "text": [
      " 5\n"
     ]
    },
    {
     "name": "stdout",
     "output_type": "stream",
     "text": [
      "<bound method Random.randint of <random.Random object at 0x00000247511A9450>>\n",
      "lost\n",
      "no. of chances left =0\n"
     ]
    }
   ],
   "source": [
    "import random\n",
    "def game():\n",
    "    for i in range(5):\n",
    "        e=int(input())\n",
    "        r=random.randint\n",
    "        \n",
    "        if e==r:\n",
    "            print(\"won\")\n",
    "            break\n",
    "        else:\n",
    "            print(\"lost\")\n",
    "            print(f\"no. of chances left ={4-i}\")\n",
    "game()\n",
    "    "
   ]
  },
  {
   "cell_type": "code",
   "execution_count": null,
   "id": "a17515de-74bb-4746-aff3-839a9c9cb232",
   "metadata": {},
   "outputs": [],
   "source": []
  }
 ],
 "metadata": {
  "kernelspec": {
   "display_name": "Python 3 (ipykernel)",
   "language": "python",
   "name": "python3"
  },
  "language_info": {
   "codemirror_mode": {
    "name": "ipython",
    "version": 3
   },
   "file_extension": ".py",
   "mimetype": "text/x-python",
   "name": "python",
   "nbconvert_exporter": "python",
   "pygments_lexer": "ipython3",
   "version": "3.11.7"
  }
 },
 "nbformat": 4,
 "nbformat_minor": 5
}
