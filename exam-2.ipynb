{
 "cells": [
  {
   "cell_type": "markdown",
   "id": "f5cbd371-c2f2-42de-a1dc-1e2860813d3e",
   "metadata": {},
   "source": [
    "1. Write a function that calculates the factorial of a given number. The function should\n",
    "take an integer “n” as its parameter and return the factorial of “n”.\n",
    "2. Write a Python program to calculate the solutions of a given quadratic equation is\n",
    "Input:X\n",
    "2\n",
    "-5X+6=0\n",
    "Output:2,3\n",
    "3. Write a Python program that calculates three interesting values for a range of natural\n",
    "numbers:\n",
    "• the sum of all numbers,\n",
    "• the sum of all their squares,\n",
    "• and the sum of all their cubes.\n",
    "\n",
    "That demonstrate this by finding these values for the numbers 1 to 10?\n",
    "Output: Sum of natural numbers from 1 to 10: 55\n",
    "Square sum of natural numbers from 1 to 10: 385\n",
    "Cube sum of natural numbers from 1 to 10: 3025\n",
    "4. Write a program that prints the multiplication table of a given number using a “for”\n",
    "loop.\n",
    "5. write a Python function to check the given number is palindrome or not? The catch:\n",
    "you can't use string slicing or built-in reversal functions!\n",
    "Ex: 4556 print (“It’s not a palindrome”)\n",
    "4554 print (“It’s a palindrome”)"
   ]
  },
  {
   "cell_type": "code",
   "execution_count": 11,
   "id": "54a7e184-eafd-4d01-b7e2-a955f2165d3c",
   "metadata": {},
   "outputs": [
    {
     "name": "stdin",
     "output_type": "stream",
     "text": [
      " 5\n"
     ]
    },
    {
     "name": "stdout",
     "output_type": "stream",
     "text": [
      "120\n"
     ]
    }
   ],
   "source": [
    "def fact(n):\n",
    "    if n==1:\n",
    "        return n\n",
    "    else:\n",
    "        return n*fact(n-1)\n",
    "q=int(input(\"\"))\n",
    "x=fact(q)\n",
    "print(x)"
   ]
  },
  {
   "cell_type": "code",
   "execution_count": 3,
   "id": "2f60db27-23c9-4734-9b66-5b50a8b80c52",
   "metadata": {},
   "outputs": [
    {
     "name": "stdin",
     "output_type": "stream",
     "text": [
      " 10\n"
     ]
    },
    {
     "name": "stdout",
     "output_type": "stream",
     "text": [
      "the sum of value from o to 10 is 55\n",
      "the sum of value from o to 10 is 385\n",
      "the sum of value from o to 10 is 3025\n"
     ]
    }
   ],
   "source": [
    "def n(p):\n",
    "    s=0\n",
    "    sq=0\n",
    "    cu=0\n",
    "    for i in range(0,p+1):\n",
    "         s+=i\n",
    "    print(f\"the sum of value from o to {p} is {s}\")    \n",
    "    for i in range(0,p+1):\n",
    "        square=i**2\n",
    "        sq+=square        \n",
    "    print(f\"the sum of value from o to {p} is {sq}\")    \n",
    "    for i in range(0,p+1):\n",
    "        cube=i**3\n",
    "        cu+=cube       \n",
    "    print(f\"the sum of value from o to {p} is {cu}\")   \n",
    "obj=eval(input(\"\"))\n",
    "n(obj)"
   ]
  },
  {
   "cell_type": "code",
   "execution_count": 4,
   "id": "394551fd-c676-45c7-a7ac-cad923fc79e5",
   "metadata": {},
   "outputs": [
    {
     "name": "stdin",
     "output_type": "stream",
     "text": [
      " 6\n"
     ]
    },
    {
     "name": "stdout",
     "output_type": "stream",
     "text": [
      "6 * 1 = 6\n",
      "6 * 2 = 12\n",
      "6 * 3 = 18\n",
      "6 * 4 = 24\n",
      "6 * 5 = 30\n",
      "6 * 6 = 36\n",
      "6 * 7 = 42\n",
      "6 * 8 = 48\n",
      "6 * 9 = 54\n",
      "6 * 10 = 60\n"
     ]
    }
   ],
   "source": [
    "def table(num):\n",
    "    for i in range (1,11):\n",
    "        print(f\"{num} * {i} = {num*i}\")\n",
    "qwe=eval(input(\"\"))\n",
    "table(qwe)"
   ]
  },
  {
   "cell_type": "code",
   "execution_count": 5,
   "id": "89fd6245-9625-41b2-8472-bbab249bc1d6",
   "metadata": {},
   "outputs": [
    {
     "name": "stdin",
     "output_type": "stream",
     "text": [
      "enter :  525\n"
     ]
    },
    {
     "name": "stdout",
     "output_type": "stream",
     "text": [
      "525\n",
      "palindrome\n"
     ]
    }
   ],
   "source": [
    "string=input(\"enter : \")\n",
    "num1=int(string)\n",
    "rev=0\n",
    "trial=num1\n",
    "while num1!=0:\n",
    "    digit=num1%10\n",
    "    rev=rev*10+digit\n",
    "    num1//=10\n",
    "print(rev)\n",
    "if rev==trial:\n",
    "    print(\"palindrome\")\n",
    "else:\n",
    "    print(\"not palindrome\")\n"
   ]
  },
  {
   "cell_type": "code",
   "execution_count": 21,
   "id": "3f75e039-37a0-4902-8cf1-7162ab18f8fe",
   "metadata": {},
   "outputs": [
    {
     "name": "stdin",
     "output_type": "stream",
     "text": [
      " 1\n",
      " -5\n",
      " 6\n"
     ]
    },
    {
     "name": "stdout",
     "output_type": "stream",
     "text": [
      "3 2\n"
     ]
    }
   ],
   "source": [
    "import math\n",
    "def func(a,b,c):\n",
    "    dis= b**2 - 4*a*c\n",
    "    if dis<0:\n",
    "        print(\"no roots\")\n",
    "    elif dis==0:\n",
    "        deb=-(b)/(2*a)\n",
    "        print(deb)\n",
    "    else:\n",
    "        x1=(-b+(math.sqrt(dis)))/(2*a)\n",
    "        x2=(-b-(math.sqrt(dis)))/(2*a)\n",
    "        return x1,x2\n",
    "a=eval(input())\n",
    "b=eval(input())\n",
    "c=eval(input())\n",
    "r1,r2=func(a,b,c)\n",
    "print(int(r1),int(r2))  "
   ]
  },
  {
   "cell_type": "code",
   "execution_count": null,
   "id": "7d5111d1-191a-489f-a5fe-938b1f724898",
   "metadata": {},
   "outputs": [],
   "source": []
  }
 ],
 "metadata": {
  "kernelspec": {
   "display_name": "Python 3 (ipykernel)",
   "language": "python",
   "name": "python3"
  },
  "language_info": {
   "codemirror_mode": {
    "name": "ipython",
    "version": 3
   },
   "file_extension": ".py",
   "mimetype": "text/x-python",
   "name": "python",
   "nbconvert_exporter": "python",
   "pygments_lexer": "ipython3",
   "version": "3.11.7"
  }
 },
 "nbformat": 4,
 "nbformat_minor": 5
}
