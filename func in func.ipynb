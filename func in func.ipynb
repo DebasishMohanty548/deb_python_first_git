{
 "cells": [
  {
   "cell_type": "code",
   "execution_count": 25,
   "id": "8fcf9c27-50fb-44fa-a895-3ac0367fd066",
   "metadata": {},
   "outputs": [
    {
     "name": "stdout",
     "output_type": "stream",
     "text": [
      "(10, 5)\n",
      "5\n"
     ]
    }
   ],
   "source": [
    "def add():\n",
    "    a1=5\n",
    "    a2=5\n",
    "    v=a1+a2\n",
    "    return (v,a1)\n",
    "x=add()\n",
    "q,r=add()\n",
    "print(x)\n",
    "print(r)"
   ]
  },
  {
   "cell_type": "code",
   "execution_count": 57,
   "id": "aaec6a0e-db6f-4837-bed8-0ad5fdf7667f",
   "metadata": {},
   "outputs": [
    {
     "name": "stdout",
     "output_type": "stream",
     "text": [
      "calling gr1 func\n",
      "calling gr2 func\n",
      "calling gr2 func\n"
     ]
    }
   ],
   "source": [
    "\n",
    "def gr1():\n",
    "    print(\"calling gr1 func\")\n",
    "    gr2()\n",
    "def gr2():\n",
    "    print(\"calling gr2 func\")\n",
    "gr1()\n",
    "gr2()"
   ]
  },
  {
   "cell_type": "code",
   "execution_count": 81,
   "id": "cb6e4aee-a518-4129-8ea2-9d730311ff68",
   "metadata": {},
   "outputs": [
    {
     "name": "stdout",
     "output_type": "stream",
     "text": [
      "10\n",
      "0\n"
     ]
    }
   ],
   "source": [
    "b=9\n",
    "a=8\n",
    "def add(a,b):\n",
    "    print(a+b)\n",
    "def sub(a,b):\n",
    "    print(a-b)\n",
    "def math(a,b):\n",
    "    add(a,b)\n",
    "    sub(a,b)\n",
    "math(5,5)\n"
   ]
  },
  {
   "cell_type": "code",
   "execution_count": 83,
   "id": "043f9ada-9dc5-4972-9db3-0de90eb26996",
   "metadata": {},
   "outputs": [
    {
     "name": "stdout",
     "output_type": "stream",
     "text": [
      "17\n",
      "-1\n"
     ]
    }
   ],
   "source": [
    "b=9\n",
    "a=8\n",
    "def add(a,b):\n",
    "    print(a+b)\n",
    "def sub(a,b):\n",
    "    print(a-b)\n",
    "def math():\n",
    "    add(a,b)\n",
    "    sub(a,b)\n",
    "math()"
   ]
  },
  {
   "cell_type": "code",
   "execution_count": 85,
   "id": "da5a02aa-285e-4252-b201-9bc8134503a9",
   "metadata": {},
   "outputs": [
    {
     "name": "stdout",
     "output_type": "stream",
     "text": [
      "4\n"
     ]
    }
   ],
   "source": [
    "def add(ak,pa):\n",
    "    print(ak+pa)\n",
    "add(2,2)"
   ]
  },
  {
   "cell_type": "code",
   "execution_count": 117,
   "id": "ff5f1c18-8873-4fdd-bdb2-554a0ef23d73",
   "metadata": {},
   "outputs": [
    {
     "name": "stdin",
     "output_type": "stream",
     "text": [
      "enter num1 :  987654321\n",
      "enter num2 :  123456789\n"
     ]
    },
    {
     "name": "stdout",
     "output_type": "stream",
     "text": [
      "enter 1 for add \n",
      "enter 2 for substraction \n",
      "enter 3 for mul \n",
      "enter 4 for division \n",
      "\n"
     ]
    },
    {
     "name": "stdin",
     "output_type": "stream",
     "text": [
      "Enter operation  4\n"
     ]
    },
    {
     "name": "stdout",
     "output_type": "stream",
     "text": [
      "8.0000000729\n"
     ]
    }
   ],
   "source": [
    "def add(a11,b11):\n",
    "    print(a11+b11)\n",
    "def sub(a11,b11):\n",
    "    print(a11-b11)\n",
    "def mul(a11,b11):\n",
    "    print(a11*b11)\n",
    "def div(a11,b11):\n",
    "    print(a11/b11)\n",
    "def calc():\n",
    "    a11=eval(input(\"enter num1 : \"))\n",
    "    b11=eval(input(\"enter num2 : \"))\n",
    "    print(\"enter 1 for add \\nenter 2 for substraction \\nenter 3 for mul \\nenter 4 for division \\n\")\n",
    "    op=eval(input(\"Enter operation \"))\n",
    "    if op==1:\n",
    "            add(a11,b11)\n",
    "    elif op==2:\n",
    "            sub(a11,b11)\n",
    "    elif op==3:\n",
    "            mul(a11,b11)\n",
    "    elif op==4:\n",
    "            div(a11,b11)\n",
    "    else :\n",
    "            print(\"invalid operation\")\n",
    "try :\n",
    "    calc()\n",
    "except Exception as e:\n",
    "    print(e)\n",
    "    "
   ]
  },
  {
   "cell_type": "code",
   "execution_count": null,
   "id": "3ed572c2-781e-4878-a09e-852ed12259a0",
   "metadata": {},
   "outputs": [],
   "source": []
  }
 ],
 "metadata": {
  "kernelspec": {
   "display_name": "Python 3 (ipykernel)",
   "language": "python",
   "name": "python3"
  },
  "language_info": {
   "codemirror_mode": {
    "name": "ipython",
    "version": 3
   },
   "file_extension": ".py",
   "mimetype": "text/x-python",
   "name": "python",
   "nbconvert_exporter": "python",
   "pygments_lexer": "ipython3",
   "version": "3.11.7"
  }
 },
 "nbformat": 4,
 "nbformat_minor": 5
}
