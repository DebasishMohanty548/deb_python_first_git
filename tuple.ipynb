{
 "cells": [
  {
   "cell_type": "code",
   "execution_count": 1,
   "id": "4ad36dd2-e99a-43f6-8e4b-6775daa60de9",
   "metadata": {},
   "outputs": [
    {
     "data": {
      "text/plain": [
       "['__add__',\n",
       " '__class__',\n",
       " '__class_getitem__',\n",
       " '__contains__',\n",
       " '__delattr__',\n",
       " '__dir__',\n",
       " '__doc__',\n",
       " '__eq__',\n",
       " '__format__',\n",
       " '__ge__',\n",
       " '__getattribute__',\n",
       " '__getitem__',\n",
       " '__getnewargs__',\n",
       " '__getstate__',\n",
       " '__gt__',\n",
       " '__hash__',\n",
       " '__init__',\n",
       " '__init_subclass__',\n",
       " '__iter__',\n",
       " '__le__',\n",
       " '__len__',\n",
       " '__lt__',\n",
       " '__mul__',\n",
       " '__ne__',\n",
       " '__new__',\n",
       " '__reduce__',\n",
       " '__reduce_ex__',\n",
       " '__repr__',\n",
       " '__rmul__',\n",
       " '__setattr__',\n",
       " '__sizeof__',\n",
       " '__str__',\n",
       " '__subclasshook__',\n",
       " 'count',\n",
       " 'index']"
      ]
     },
     "execution_count": 1,
     "metadata": {},
     "output_type": "execute_result"
    }
   ],
   "source": [
    "dir(tuple)"
   ]
  },
  {
   "cell_type": "code",
   "execution_count": 114,
   "id": "97139a87-31f7-43a9-9353-920e708710c2",
   "metadata": {},
   "outputs": [
    {
     "name": "stdout",
     "output_type": "stream",
     "text": [
      "<class 'tuple'>\n",
      "11\n",
      "3\n",
      "56\n",
      "8\n",
      "1\n",
      "[11, 22, 3, 3, 3, 3, 3, 3, 3, 3, 56]\n",
      "[3, 3, 3, 3, 3, 3, 3, 3, 11, 22, 56]\n",
      "[56, 3, 3, 3, 3, 3, 3, 3, 3, 22, 11]\n",
      "True\n",
      "(11, 22, 3, 3, 3, 3, 3, 3, 3, 3, 56, 4)\n",
      "(1, 2, 3, ['Apple', ['Fruites', ['Cherry']]], 'w', 'r', 'p', 'q', 'a')\n",
      "(1, 2, 3, ['Apple', ['Fruites', ['Cherry', 'love']]])\n"
     ]
    },
    {
     "data": {
      "text/plain": [
       "('a', 'q')"
      ]
     },
     "execution_count": 114,
     "metadata": {},
     "output_type": "execute_result"
    }
   ],
   "source": [
    "t=(11,22,3,3,3,3,3,3,3,3,56)\n",
    "t\n",
    "print(type(t))\n",
    "print(len(t))\n",
    "print(min(t))\n",
    "print(max(t))\n",
    "print(t.count(3))\n",
    "print(t.index(22))\n",
    "print(list(t))\n",
    "print(sorted(list(t)))\n",
    "print(list(reversed(list(t))))\n",
    "if 22 in t:\n",
    "    print(True)\n",
    "x=list(t)\n",
    "if 4 not in x:\n",
    "    x.append(4)\n",
    "    print(tuple(x))\n",
    "tup1=(1,2,3,['Apple',['Fruites',['Cherry']]])\n",
    "len(tup1[3])\n",
    "tup1[3][1][1][0]\n",
    "tup1[1:]\n",
    "\n",
    "tip=('w','r','p')\n",
    "top=('q','a')\n",
    "t=(tup1 + tip + top)\n",
    "print(t)\n",
    "lok=list(tup1)\n",
    "lok[3][1][1].append('love')\n",
    "print(tuple(lok))\n",
    "top[::-1]"
   ]
  },
  {
   "cell_type": "code",
   "execution_count": null,
   "id": "a9312c49-552e-4b49-bd98-c1bdaea36e87",
   "metadata": {},
   "outputs": [],
   "source": []
  }
 ],
 "metadata": {
  "kernelspec": {
   "display_name": "Python 3 (ipykernel)",
   "language": "python",
   "name": "python3"
  },
  "language_info": {
   "codemirror_mode": {
    "name": "ipython",
    "version": 3
   },
   "file_extension": ".py",
   "mimetype": "text/x-python",
   "name": "python",
   "nbconvert_exporter": "python",
   "pygments_lexer": "ipython3",
   "version": "3.11.7"
  }
 },
 "nbformat": 4,
 "nbformat_minor": 5
}
