{
 "cells": [
  {
   "cell_type": "code",
   "execution_count": 26,
   "id": "b2af9a39-2884-4763-8780-92a2a067b722",
   "metadata": {},
   "outputs": [
    {
     "name": "stdout",
     "output_type": "stream",
     "text": [
      "can 3\n",
      "canner 2\n",
      "can 3\n",
      "not 3\n",
      "can 3\n",
      "but 2\n",
      "canner 2\n",
      "but 2\n",
      "not 3\n",
      "not 3\n"
     ]
    }
   ],
   "source": [
    "s='can canner can not can but canner but not not '\n",
    "l=s.split()\n",
    "for i in l:\n",
    "    c=0\n",
    "    for j in l:\n",
    "        if i==j:\n",
    "            c+=1\n",
    "    print(i,c)\n"
   ]
  },
  {
   "cell_type": "code",
   "execution_count": 200,
   "id": "00a6b98f-1732-4c57-85ca-5c97d3ca9d79",
   "metadata": {},
   "outputs": [
    {
     "name": "stdout",
     "output_type": "stream",
     "text": [
      "['akashakashakash', 'apple', 'assaaaaaaaa', 'ball', 'cat', 'dog']\n",
      "6\n",
      "akashakashakash\n"
     ]
    }
   ],
   "source": [
    "l=['akashakashakash','apple','cat','dog','ball','assaaaaaaaa']\n",
    "for i in range(len(l)):\n",
    "    for j in range(len(l)-i-1):\n",
    "        if l[j+1]<l[j]:\n",
    "            l[j+1],l[j]=l[j],l[j+1]\n",
    "print(l)\n",
    "print(len(l))      \n",
    "print(min(l))"
   ]
  },
  {
   "cell_type": "code",
   "execution_count": 132,
   "id": "7efef4a5-a336-4bfc-b420-7a21ea72c8eb",
   "metadata": {},
   "outputs": [
    {
     "name": "stdout",
     "output_type": "stream",
     "text": [
      "['apple', 'ball', 'cat', 'dog']\n"
     ]
    }
   ],
   "source": [
    "l=['apple','cat','dog','ball']\n",
    "for i in range(len(l)):\n",
    "    for j in range(i+1,len(l)):\n",
    "        if l[i]>l[j]:\n",
    "            l[i],l[j]=l[j],l[i]\n",
    "print(l)"
   ]
  },
  {
   "cell_type": "code",
   "execution_count": 183,
   "id": "0a361e14-a9e7-4c2d-9a88-67ae9ac1b4fc",
   "metadata": {},
   "outputs": [
    {
     "name": "stdout",
     "output_type": "stream",
     "text": [
      "['odd=1', 'even=2', 'odd=3', 'even=4', 'odd=5', 'even=6', 'odd=7', 'even=8', 'odd=9', 'even=10']\n"
     ]
    },
    {
     "data": {
      "text/plain": [
       "['odd=1',\n",
       " 'even = 2',\n",
       " 'odd=3',\n",
       " 'even = 4',\n",
       " 'odd=5',\n",
       " 'even = 6',\n",
       " 'odd=7',\n",
       " 'even = 8',\n",
       " 'odd=9',\n",
       " 'even = 10']"
      ]
     },
     "execution_count": 183,
     "metadata": {},
     "output_type": "execute_result"
    }
   ],
   "source": [
    "op=[f'even={i}' if i%2==0 else f'odd={i}' for i in range(1,11)]\n",
    "print(op)\n",
    "love=[]\n",
    "for i in range(1,11):\n",
    "    love.append(i)  \n",
    "oop=list(map(lambda x: f'even = {x}' if x%2==0 else f'odd={x}',love))\n",
    "oop"
   ]
  },
  {
   "cell_type": "code",
   "execution_count": 212,
   "id": "381a308a-01dc-4176-8b53-1a726267ebc9",
   "metadata": {},
   "outputs": [
    {
     "data": {
      "text/plain": [
       "[1, 2, 4, 5, 6, 7, 8, 9]"
      ]
     },
     "execution_count": 212,
     "metadata": {},
     "output_type": "execute_result"
    }
   ],
   "source": [
    "pu=[i for i in range(1,11)]\n",
    "pu.remove(10)\n",
    "pu\n",
    "pu.pop(2)\n",
    "pu"
   ]
  },
  {
   "cell_type": "code",
   "execution_count": null,
   "id": "2c0a4116-80d6-4f34-9553-74279e5933f5",
   "metadata": {},
   "outputs": [],
   "source": []
  }
 ],
 "metadata": {
  "kernelspec": {
   "display_name": "Python 3 (ipykernel)",
   "language": "python",
   "name": "python3"
  },
  "language_info": {
   "codemirror_mode": {
    "name": "ipython",
    "version": 3
   },
   "file_extension": ".py",
   "mimetype": "text/x-python",
   "name": "python",
   "nbconvert_exporter": "python",
   "pygments_lexer": "ipython3",
   "version": "3.11.7"
  }
 },
 "nbformat": 4,
 "nbformat_minor": 5
}
