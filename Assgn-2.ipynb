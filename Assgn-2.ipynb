{
 "cells": [
  {
   "cell_type": "markdown",
   "id": "e82ed3ea-9e9b-4b84-9e7a-57248437fc0c",
   "metadata": {},
   "source": [
    "1.Ramesh’s basic salary is input through the keyboard. His dearness allowance is 40% of basic salary, and\n",
    "house rent allowance is 20% of basic salary. Write a program to calculate his gross salary.\n",
    "\n",
    "\n"
   ]
  },
  {
   "cell_type": "code",
   "execution_count": 1,
   "id": "54e64dc6-795e-4b5e-bc45-9d52951207ee",
   "metadata": {},
   "outputs": [
    {
     "name": "stdin",
     "output_type": "stream",
     "text": [
      "Enter basic salary 100\n"
     ]
    },
    {
     "name": "stdout",
     "output_type": "stream",
     "text": [
      "Gross sal is 160.0\n"
     ]
    }
   ],
   "source": [
    "salary=eval(input(\"Enter basic salary\"))\n",
    "da=salary*(40/100)\n",
    "hra=salary*(20/100)\n",
    "print(f\"Gross sal is {salary+da+hra}\")"
   ]
  },
  {
   "cell_type": "markdown",
   "id": "0d954f72-9d30-4972-92d3-09bfef49f72a",
   "metadata": {},
   "source": [
    "2. The distance between two cities (in km.) is input through the keyboard. Write a program to convert and\n",
    "print this distance in meters, feet, inches and centimeters."
   ]
  },
  {
   "cell_type": "code",
   "execution_count": 11,
   "id": "84e596a5-4060-43f3-acff-b949b665efd2",
   "metadata": {},
   "outputs": [
    {
     "name": "stdin",
     "output_type": "stream",
     "text": [
      "Distance in KM =  5\n"
     ]
    },
    {
     "name": "stdout",
     "output_type": "stream",
     "text": [
      "meters = 5000 \n",
      "feets = 16404.0 \n",
      "inches = 196848.0 \n",
      "centimeters = 5000000\n"
     ]
    }
   ],
   "source": [
    "dis=eval(input(\"Distance in KM = \"))\n",
    "m=dis*1000\n",
    "f=round(m*3.2808,3)\n",
    "i=f*12\n",
    "c=m*1000\n",
    "print(f\"meters = {m} \\nfeets = {f} \\ninches = {i} \\ncentimeters = {c}\")\n"
   ]
  },
  {
   "cell_type": "markdown",
   "id": "22a1f202-9638-4188-97ae-98ebd9caa71f",
   "metadata": {},
   "source": [
    "3. If the marks obtained by a student in five different subjects are input through the keyboard, find out the\n",
    "aggregate marks and percentage marks obtained by the student. Assume that the maximum marks that\n",
    "can be obtained by a student in each subject is 100."
   ]
  },
  {
   "cell_type": "code",
   "execution_count": 48,
   "id": "6eb526bd-50ee-456f-ada6-11ffb71ceecd",
   "metadata": {},
   "outputs": [
    {
     "name": "stdin",
     "output_type": "stream",
     "text": [
      "Enter marks no.1:  90\n",
      "Enter marks no.2:  80\n",
      "Enter marks no.3:  98\n",
      "Enter marks no.4:  75\n",
      "Enter marks no.5:  68\n"
     ]
    },
    {
     "name": "stdout",
     "output_type": "stream",
     "text": [
      "total marks = 411 and percentage = 82.2\n"
     ]
    }
   ],
   "source": [
    "m=[]\n",
    "sum=0\n",
    "try:\n",
    "    for i in range(1,6):\n",
    "        e=eval(input(f\"Enter marks no.{i}: \"))\n",
    "        if 0<=e<=100:\n",
    "            m.append(e)\n",
    "        else:\n",
    "            print(\"Enter between 0-100.\")\n",
    "            break\n",
    "    for i in range (0,len(m)):\n",
    "        sum=sum+m[i]\n",
    "        i=i+1\n",
    "    per=sum/len(m) \n",
    "    print(f\"total marks = {sum} and percentage = {per}\")\n",
    "except Exception as w:\n",
    "    print(w)\n",
    "    "
   ]
  },
  {
   "cell_type": "markdown",
   "id": "97b3d65c-8d74-4205-b4b4-fd86184f72eb",
   "metadata": {},
   "source": [
    "4. Temperature of a city in Fahrenheit degrees is input through the keyboard. Write a program to convert this\n",
    "temperature into Centigrade degrees."
   ]
  },
  {
   "cell_type": "code",
   "execution_count": 55,
   "id": "5ef34e67-7780-4ac4-8395-68cd062da247",
   "metadata": {},
   "outputs": [
    {
     "name": "stdin",
     "output_type": "stream",
     "text": [
      "enter temp in fahrenheit:  97.8\n"
     ]
    },
    {
     "name": "stdout",
     "output_type": "stream",
     "text": [
      "celcius =  36.55555555555556\n"
     ]
    }
   ],
   "source": [
    "f=eval(input(\"enter temp in fahrenheit: \"))\n",
    "c=(f-32)*5/9\n",
    "print(\"celcius = \",c)"
   ]
  },
  {
   "cell_type": "markdown",
   "id": "92e96c5d-112a-4f19-8856-59af57737933",
   "metadata": {},
   "source": [
    "5. The length &amp; breadth of a rectangle and radius of a circle are input through the keyboard. Write a program\n",
    "to calculate the area &amp; perimeter of the rectangle, and the area &amp; circumference of the circle."
   ]
  },
  {
   "cell_type": "code",
   "execution_count": 72,
   "id": "818aee87-4ccd-40e7-99a8-a3e80be1e722",
   "metadata": {},
   "outputs": [
    {
     "name": "stdin",
     "output_type": "stream",
     "text": [
      "Enter length:  2\n",
      "Enter breadth:  3\n",
      "Enter radius  of  cicle:  3\n"
     ]
    },
    {
     "name": "stdout",
     "output_type": "stream",
     "text": [
      "area of rectangle is 6 \n",
      "perimeter of rectangle is 10 \n",
      "area of cicle is 28.274 \n",
      "cicumference of cicle is 18.85\n"
     ]
    }
   ],
   "source": [
    "import math\n",
    "l=eval(input(\"Enter length: \"))\n",
    "b=eval(input(\"Enter breadth: \"))\n",
    "r=eval(input(\"Enter radius  of  cicle: \"))\n",
    "a=l*b\n",
    "p=2*(l+b)\n",
    "ca=round((math.pi)*r*r,3)\n",
    "ci=round((math.pi)*r*2,3)\n",
    "print(f\"area of rectangle is {a} \\nperimeter of rectangle is {p} \\narea of cicle is {ca} \\ncicumference of cicle is {ci}\")"
   ]
  },
  {
   "cell_type": "markdown",
   "id": "b900a1d3-ffc5-45a0-864d-b79f1fa25d72",
   "metadata": {},
   "source": [
    "6. Two numbers are input through the keyboard into two locations C and D. Write a program to interchange\n",
    "the contents of C and D."
   ]
  },
  {
   "cell_type": "code",
   "execution_count": 75,
   "id": "5b9ca3b0-1410-46aa-94a2-fb4266693c0b",
   "metadata": {},
   "outputs": [
    {
     "name": "stdin",
     "output_type": "stream",
     "text": [
      "1st no. =  5\n",
      "2nd no. =  6\n"
     ]
    },
    {
     "name": "stdout",
     "output_type": "stream",
     "text": [
      "6 5\n"
     ]
    }
   ],
   "source": [
    "C=eval(input(\"1st no. = \"))\n",
    "D=eval(input(\"2nd no. = \"))\n",
    "(C,D)=(D,C)\n",
    "print(C,D)\n"
   ]
  },
  {
   "cell_type": "markdown",
   "id": "88d2726e-713d-4562-94d3-cafbec7929af",
   "metadata": {},
   "source": [
    "7. If a five-digit number is input through the keyboard, write a program to reverse the number."
   ]
  },
  {
   "cell_type": "code",
   "execution_count": 82,
   "id": "0ede0a88-8a8c-44d5-a2dc-72c29c6fd4da",
   "metadata": {},
   "outputs": [
    {
     "name": "stdin",
     "output_type": "stream",
     "text": [
      " 12345\n"
     ]
    },
    {
     "name": "stdout",
     "output_type": "stream",
     "text": [
      "54321\n"
     ]
    }
   ],
   "source": [
    "a=int(input())\n",
    "\n",
    "print(str(a)[::-1])\n",
    "    \n",
    "    \n",
    "    "
   ]
  },
  {
   "cell_type": "markdown",
   "id": "b9020969-80d0-45e0-b584-baa7fd7ebf34",
   "metadata": {},
   "source": [
    "8. If a four-digit number is input through the keyboard, write a program to obtain the sum of the first and last"
   ]
  },
  {
   "cell_type": "code",
   "execution_count": 85,
   "id": "bac8fba1-8dd6-4eb7-93d8-86d7ff1fd2e3",
   "metadata": {},
   "outputs": [
    {
     "name": "stdin",
     "output_type": "stream",
     "text": [
      "enter :  1231\n"
     ]
    },
    {
     "name": "stdout",
     "output_type": "stream",
     "text": [
      "2\n"
     ]
    }
   ],
   "source": [
    "a=int(input(\"enter : \"))\n",
    "s=str(a)\n",
    "i=s[0]\n",
    "y=s[-1]\n",
    "sum=int(i)+int(y)\n",
    "print(sum)"
   ]
  },
  {
   "cell_type": "markdown",
   "id": "eb2508b1-ae03-40dd-a93c-df1885f8784b",
   "metadata": {},
   "source": [
    "9. In a town, the percentage of men is 52. The percentage of total literacy is 48. If total percentage of literate\n",
    "men is 35 of the total population, write a program to find the total number of illiterate men and women if\n",
    "the population of the town is 80,000."
   ]
  },
  {
   "cell_type": "code",
   "execution_count": 96,
   "id": "a179e0f4-f952-45bb-bf62-14d071e3f663",
   "metadata": {},
   "outputs": [
    {
     "name": "stdout",
     "output_type": "stream",
     "text": [
      "13600.0 28000.0\n"
     ]
    }
   ],
   "source": [
    "tp=80000\n",
    "mp=tp*(52/100)\n",
    "tlp=(48/100)*tp\n",
    "mlp=(35/100)*tp\n",
    "illm=mp-mlp\n",
    "wp=tp-mp\n",
    "wlp=tlp-mlp\n",
    "willm=wp-wlp\n",
    "print(illm,willm)\n",
    "\n"
   ]
  },
  {
   "cell_type": "markdown",
   "id": "74ad07a5-549c-4876-b6f1-873e43d1991d",
   "metadata": {},
   "source": [
    "10. A cashier has currency notes of denominations 10, 50 and 100. If the amount to be withdrawn is input\n",
    "through the keyboard in hundreds, find the total number of currency notes of each denomination the\n",
    "cashier will have to give to the withdrawer."
   ]
  },
  {
   "cell_type": "code",
   "execution_count": 108,
   "id": "109b5eaf-0f43-4193-9ce9-0e3adf39d67b",
   "metadata": {},
   "outputs": [
    {
     "name": "stdin",
     "output_type": "stream",
     "text": [
      "Enter total amount :  390\n"
     ]
    },
    {
     "name": "stdout",
     "output_type": "stream",
     "text": [
      "number 100 notes 3 \n",
      "number 50 notes 1 \n",
      "number 10 notes 4\n"
     ]
    }
   ],
   "source": [
    "a=int(input(\"Enter total amount : \"))\n",
    "if a>=100:\n",
    "    dh=a//100\n",
    "    nd=a%100\n",
    "if nd>=50 and nd<=100:\n",
    "    df=nd//50\n",
    "    nd1=nd-df*50\n",
    "if nd1>=10 and nd1<=50:\n",
    "    dt=nd1//10\n",
    "    nd2=nd1%10\n",
    "print(f\"number 100 notes {dh} \\nnumber 50 notes {df} \\nnumber 10 notes {dt}\")\n",
    "    \n",
    "    \n",
    "\n",
    "      \n",
    "      "
   ]
  },
  {
   "cell_type": "code",
   "execution_count": null,
   "id": "8ddc84a2-c210-4d35-91f7-3b580514f89e",
   "metadata": {},
   "outputs": [],
   "source": []
  }
 ],
 "metadata": {
  "kernelspec": {
   "display_name": "Python 3 (ipykernel)",
   "language": "python",
   "name": "python3"
  },
  "language_info": {
   "codemirror_mode": {
    "name": "ipython",
    "version": 3
   },
   "file_extension": ".py",
   "mimetype": "text/x-python",
   "name": "python",
   "nbconvert_exporter": "python",
   "pygments_lexer": "ipython3",
   "version": "3.11.7"
  }
 },
 "nbformat": 4,
 "nbformat_minor": 5
}
