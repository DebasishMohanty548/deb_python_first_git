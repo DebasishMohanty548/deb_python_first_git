{
 "cells": [
  {
   "cell_type": "code",
   "execution_count": null,
   "id": "8a0866af-7dda-42b9-9f30-66ec4f402ac0",
   "metadata": {},
   "outputs": [],
   "source": [
    "1. Write a Python Program to Find the Sum of Natural Numbers.\n",
    "\n",
    "2. Write a Python Program to Make a Simple Calculator with 4 basic mathematical operations.\n",
    "3. Write a Python Program to Find Factorial of Number\n",
    "4. Write a Python Program to find sum of list\n",
    "5. Write a Python Program to Sort Words in Alphabetic Order."
   ]
  },
  {
   "cell_type": "code",
   "execution_count": 7,
   "id": "76dd4113-15fb-4616-a6ff-05d23f3437e2",
   "metadata": {},
   "outputs": [
    {
     "name": "stdin",
     "output_type": "stream",
     "text": [
      "Enter positive integer--  16\n"
     ]
    },
    {
     "name": "stdout",
     "output_type": "stream",
     "text": [
      "136\n"
     ]
    }
   ],
   "source": [
    "n=int(input(\"Enter positive integer-- \"))\n",
    "s=0\n",
    "if n<0:\n",
    "    print(\"Enter positive integer-- \")\n",
    "elif n==0:\n",
    "    print('0')\n",
    "else:\n",
    "    for i in range(1,n+1):\n",
    "        s=s+i\n",
    "    print(s)"
   ]
  },
  {
   "cell_type": "code",
   "execution_count": 13,
   "id": "0d42749d-2181-4786-8f9d-ca6d4e579837",
   "metadata": {},
   "outputs": [
    {
     "name": "stdin",
     "output_type": "stream",
     "text": [
      "enter no1 --  5\n",
      "Enter operater(+,-,/,*)--   *\n",
      "enter no2 --  2\n"
     ]
    },
    {
     "name": "stdout",
     "output_type": "stream",
     "text": [
      "10\n"
     ]
    }
   ],
   "source": [
    "n1=eval(input(\"enter no1 -- \"))\n",
    "o=input('Enter operater(+,-,/,*)--  ')\n",
    "n2=eval(input(\"enter no2 -- \"))\n",
    "if o=='+':\n",
    "    print(n1+n2)\n",
    "elif o=='-':\n",
    "    print(n1-n2)\n",
    "elif o=='*':\n",
    "    print(n1*n2)\n",
    "elif o=='/':\n",
    "    print(n1/n2)\n",
    "else:\n",
    "    print('invalid input')"
   ]
  },
  {
   "cell_type": "code",
   "execution_count": 21,
   "id": "4cefee48-6963-4e25-9fa0-3ca6f66d255a",
   "metadata": {},
   "outputs": [
    {
     "name": "stdin",
     "output_type": "stream",
     "text": [
      "Enter positive integer--  5\n"
     ]
    },
    {
     "name": "stdout",
     "output_type": "stream",
     "text": [
      "120\n"
     ]
    }
   ],
   "source": [
    "def f(n):\n",
    "    if n==0 or n==1:\n",
    "        return n\n",
    "    else:\n",
    "        return n * f(n-1)\n",
    "n=int(input(\"Enter positive integer-- \"))\n",
    "if n>=0:\n",
    "    x=f(n)\n",
    "    print(x)\n",
    "else:\n",
    "    print('invalid input')"
   ]
  },
  {
   "cell_type": "code",
   "execution_count": 33,
   "id": "66a87069-f8f7-4fe8-8a36-55474334ebce",
   "metadata": {},
   "outputs": [
    {
     "name": "stdin",
     "output_type": "stream",
     "text": [
      "Enter len of lis --  5\n",
      " 1\n",
      " 2\n",
      " 3\n",
      " 4\n",
      " 5\n"
     ]
    },
    {
     "name": "stdout",
     "output_type": "stream",
     "text": [
      "[1, 2, 3, 4, 5]\n",
      "15\n"
     ]
    }
   ],
   "source": [
    "limit=int(input(\"Enter len of lis -- \"))\n",
    "l=[]\n",
    "for i in range (0,limit):\n",
    "    n=int(input())\n",
    "    l.append(n)\n",
    "print(l)\n",
    "print(sum(l))"
   ]
  },
  {
   "cell_type": "code",
   "execution_count": 43,
   "id": "0c1c927b-1ef2-4222-84f5-a2191ac36ebe",
   "metadata": {},
   "outputs": [
    {
     "name": "stdin",
     "output_type": "stream",
     "text": [
      " h w a r o b c\n"
     ]
    },
    {
     "name": "stdout",
     "output_type": "stream",
     "text": [
      "['a', 'b', 'c', 'h', 'o', 'r', 'w']\n",
      "['a', 'b', 'c', 'h', 'o', 'r', 'w']\n"
     ]
    }
   ],
   "source": [
    "s=input()\n",
    "li=s.split()\n",
    "print(sorted(li))\n",
    "li.sort()\n",
    "print(li)"
   ]
  },
  {
   "cell_type": "code",
   "execution_count": null,
   "id": "32eb107b-1625-4d5f-ba90-c81eb93c28b9",
   "metadata": {},
   "outputs": [],
   "source": []
  },
  {
   "cell_type": "code",
   "execution_count": null,
   "id": "2f9f276c-ec7b-4bc4-8e8b-d112f1ffc580",
   "metadata": {},
   "outputs": [],
   "source": []
  },
  {
   "cell_type": "code",
   "execution_count": null,
   "id": "1ccc525b-30f2-4624-8363-30f73a832906",
   "metadata": {},
   "outputs": [],
   "source": []
  },
  {
   "cell_type": "code",
   "execution_count": null,
   "id": "f4c07dfe-d87d-46ab-9360-f9e7416fe14b",
   "metadata": {},
   "outputs": [],
   "source": []
  }
 ],
 "metadata": {
  "kernelspec": {
   "display_name": "Python 3 (ipykernel)",
   "language": "python",
   "name": "python3"
  },
  "language_info": {
   "codemirror_mode": {
    "name": "ipython",
    "version": 3
   },
   "file_extension": ".py",
   "mimetype": "text/x-python",
   "name": "python",
   "nbconvert_exporter": "python",
   "pygments_lexer": "ipython3",
   "version": "3.11.7"
  }
 },
 "nbformat": 4,
 "nbformat_minor": 5
}
