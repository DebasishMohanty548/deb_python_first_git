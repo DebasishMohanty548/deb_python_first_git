{
 "cells": [
  {
   "cell_type": "code",
   "execution_count": 1,
   "id": "6e373c3b-562f-4cdf-9ed5-5dee35af4648",
   "metadata": {},
   "outputs": [
    {
     "name": "stdout",
     "output_type": "stream",
     "text": [
      "20.0\n"
     ]
    }
   ],
   "source": [
    "def average():\n",
    "    n1,n2,n3=20,10,30\n",
    "    sum=n1+n2+n3\n",
    "    avg=sum/3\n",
    "    print(round(avg,3))\n",
    "average()"
   ]
  },
  {
   "cell_type": "code",
   "execution_count": 2,
   "id": "24b35394-c136-4938-9693-7c8b6920b24a",
   "metadata": {},
   "outputs": [
    {
     "name": "stdout",
     "output_type": "stream",
     "text": [
      "20.0\n"
     ]
    }
   ],
   "source": [
    "average()"
   ]
  },
  {
   "cell_type": "code",
   "execution_count": 3,
   "id": "b4620c75-d072-4449-becd-c0ca15ca2df5",
   "metadata": {},
   "outputs": [
    {
     "name": "stdin",
     "output_type": "stream",
     "text": [
      "Enter :  5\n",
      "Enter :  5\n",
      "Enter :  5\n"
     ]
    },
    {
     "name": "stdout",
     "output_type": "stream",
     "text": [
      "5.0\n"
     ]
    }
   ],
   "source": [
    "def average():\n",
    "    n1=eval(input(\"Enter : \")) #inside the function block thats why these are local variables\n",
    "    n2=eval(input(\"Enter : \"))\n",
    "    n3=eval(input(\"Enter : \"))\n",
    "    sum=n1+n2+n3\n",
    "    avg=sum/3\n",
    "    print(round(avg,3))\n",
    "average()"
   ]
  },
  {
   "cell_type": "code",
   "execution_count": 4,
   "id": "0f1d75f0-bd23-4829-9d06-03933264aaf5",
   "metadata": {},
   "outputs": [
    {
     "name": "stdout",
     "output_type": "stream",
     "text": [
      "38.333\n"
     ]
    }
   ],
   "source": [
    "def average(n1,n2,n3):\n",
    "    n1,n2=55,55\n",
    "    sum=n1+n2+n3\n",
    "    avg=sum/3\n",
    "    print(round(avg,3))\n",
    "average(20,30,5)"
   ]
  },
  {
   "cell_type": "code",
   "execution_count": 5,
   "id": "8b9a79ec-6ac4-4958-8330-20f7e5b90bc9",
   "metadata": {},
   "outputs": [
    {
     "name": "stdout",
     "output_type": "stream",
     "text": [
      "40.0\n"
     ]
    }
   ],
   "source": [
    "average(10,10,10)\n"
   ]
  },
  {
   "cell_type": "code",
   "execution_count": 6,
   "id": "93ead735-1b34-42b2-9330-6cddfaa770a5",
   "metadata": {},
   "outputs": [
    {
     "name": "stdout",
     "output_type": "stream",
     "text": [
      "7.333\n"
     ]
    }
   ],
   "source": [
    "n3=100\n",
    "def average(n1,n2,n3):\n",
    "    n1,n2=1,1\n",
    "    sum=n1+n2+n3\n",
    "    avg=sum/3\n",
    "    print(round(avg,3))\n",
    "    #print(n3)\n",
    "n3=20\n",
    "n1,n2,n3=30,30,10\n",
    "average(30,30,20)\n",
    "n1,n2,n3=55,5,5"
   ]
  },
  {
   "cell_type": "code",
   "execution_count": 7,
   "id": "55803e01-ce83-42fd-9f7f-4f6d9fd48812",
   "metadata": {},
   "outputs": [
    {
     "name": "stdout",
     "output_type": "stream",
     "text": [
      "4.0\n",
      "50.001000000000005\n"
     ]
    }
   ],
   "source": [
    "average(1,1,n3=10)\n",
    "n3=1\n",
    "x=16.667*3\n",
    "print(x)"
   ]
  },
  {
   "cell_type": "code",
   "execution_count": 8,
   "id": "e357a477-a52b-406c-9551-b6f1215387f9",
   "metadata": {},
   "outputs": [
    {
     "name": "stdout",
     "output_type": "stream",
     "text": [
      "2.333\n"
     ]
    }
   ],
   "source": [
    "average(1,1,5)"
   ]
  },
  {
   "cell_type": "code",
   "execution_count": 9,
   "id": "0f41217a-a9bf-40da-b5e6-b92f5ac66e59",
   "metadata": {},
   "outputs": [
    {
     "name": "stdout",
     "output_type": "stream",
     "text": [
      "10\n",
      "20\n"
     ]
    }
   ],
   "source": [
    "s=5\n",
    "\n",
    "def dd():\n",
    "    global s\n",
    "    s=10\n",
    "    print(s)\n",
    "dd()\n",
    "s=20  \n",
    "print(s)"
   ]
  },
  {
   "cell_type": "code",
   "execution_count": 10,
   "id": "d4afd299-db73-437b-a5c2-179538cb5e07",
   "metadata": {},
   "outputs": [
    {
     "data": {
      "text/plain": [
       "20"
      ]
     },
     "execution_count": 10,
     "metadata": {},
     "output_type": "execute_result"
    }
   ],
   "source": [
    "s"
   ]
  },
  {
   "cell_type": "code",
   "execution_count": 90,
   "id": "50911160-c69d-44a8-a0d3-b5c7eb169e25",
   "metadata": {},
   "outputs": [
    {
     "name": "stdout",
     "output_type": "stream",
     "text": [
      "5\n",
      "4\n"
     ]
    }
   ],
   "source": [
    "def a():\n",
    "    a1=1\n",
    "    s=a1+3\n",
    "    return s\n",
    "su=a()\n",
    "a=3\n",
    "v=2\n",
    "print(a+v)\n",
    "print(su)"
   ]
  },
  {
   "cell_type": "code",
   "execution_count": 114,
   "id": "3f84e57f-541e-47a1-b912-ec6a07181534",
   "metadata": {},
   "outputs": [
    {
     "name": "stdout",
     "output_type": "stream",
     "text": [
      "5\n",
      "12\n"
     ]
    }
   ],
   "source": [
    "def add():\n",
    "    aaaa=5\n",
    "    bbbb=2\n",
    "    cccc=3\n",
    "    sum=aaaa+bbbb+cccc\n",
    "    return aaaa,bbbb,sum\n",
    "add()\n",
    "sum,x,b=add()\n",
    "print(sum)\n",
    "#print(b)\n",
    "#print(x)# dircect add() will not print thats why we have to assign add() into x and then print x \n",
    "print(6+6)"
   ]
  },
  {
   "cell_type": "code",
   "execution_count": 66,
   "id": "4a565be7-2d81-47b9-9c69-e2737c22ba7b",
   "metadata": {},
   "outputs": [
    {
     "name": "stdout",
     "output_type": "stream",
     "text": [
      "60\n",
      "10\n",
      "20\n"
     ]
    }
   ],
   "source": [
    "def jj():\n",
    "    n=10\n",
    "    m=20\n",
    "    s=n+m\n",
    "    return (n,m,s)\n",
    "n,m,s=jj()\n",
    "\n",
    "print(s+n+m)\n",
    "print(n)\n",
    "print(m)"
   ]
  },
  {
   "cell_type": "code",
   "execution_count": null,
   "id": "8a4783aa-db27-4548-8598-5face3efbda0",
   "metadata": {},
   "outputs": [],
   "source": []
  }
 ],
 "metadata": {
  "kernelspec": {
   "display_name": "Python 3 (ipykernel)",
   "language": "python",
   "name": "python3"
  },
  "language_info": {
   "codemirror_mode": {
    "name": "ipython",
    "version": 3
   },
   "file_extension": ".py",
   "mimetype": "text/x-python",
   "name": "python",
   "nbconvert_exporter": "python",
   "pygments_lexer": "ipython3",
   "version": "3.11.7"
  }
 },
 "nbformat": 4,
 "nbformat_minor": 5
}
