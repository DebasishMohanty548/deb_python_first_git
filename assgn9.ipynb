{
 "cells": [
  {
   "cell_type": "markdown",
   "id": "f69f1dac-690e-4e76-91d7-d185d15bce13",
   "metadata": {},
   "source": [
    "'isalnum',\n",
    " 'isalpha',\n",
    " 'isascii',\n",
    " 'isdecimal',\n",
    " 'isdigit',\n",
    " 'isidentifier',\n",
    " 'islower',\n",
    " 'isnumeric',\n",
    " 'isprintable',\n",
    " 'isspace',\n",
    " 'istitle',\n",
    " 'isupper',"
   ]
  },
  {
   "cell_type": "code",
   "execution_count": 2,
   "id": "a82e922a-f770-477f-9cd9-054c197e3821",
   "metadata": {},
   "outputs": [
    {
     "name": "stdout",
     "output_type": "stream",
     "text": [
      "True\n",
      "False\n"
     ]
    }
   ],
   "source": [
    "x='debu58'\n",
    "y='**'\n",
    "string=x.isalnum()\n",
    "s=y.isalnum()\n",
    "print(string)\n",
    "print(s)"
   ]
  },
  {
   "cell_type": "code",
   "execution_count": 3,
   "id": "92e6be13-26c2-422d-9be5-bd40fb46093b",
   "metadata": {},
   "outputs": [
    {
     "name": "stdout",
     "output_type": "stream",
     "text": [
      "True\n",
      "False\n"
     ]
    }
   ],
   "source": [
    "x=\"abCd\"\n",
    "y='85'\n",
    "string=x.isalpha()\n",
    "s=y.isalpha()\n",
    "print(string)\n",
    "print(s)"
   ]
  },
  {
   "cell_type": "code",
   "execution_count": 4,
   "id": "f2b09584-4a2a-4b08-aa18-f8bda79e77b3",
   "metadata": {},
   "outputs": [
    {
     "name": "stdout",
     "output_type": "stream",
     "text": [
      "True\n",
      "False\n"
     ]
    }
   ],
   "source": [
    "x=\"/abCd\"\n",
    "y='~dàmǎng'\n",
    "string=x.isascii()\n",
    "s=y.isascii()\n",
    "print(string)\n",
    "print(s)"
   ]
  },
  {
   "cell_type": "code",
   "execution_count": 5,
   "id": "6ef1bb69-fcd9-4d82-84d0-947981049aba",
   "metadata": {},
   "outputs": [
    {
     "name": "stdout",
     "output_type": "stream",
     "text": [
      "True\n",
      "False\n"
     ]
    }
   ],
   "source": [
    "x=\"85\"\n",
    "y='8585.222'\n",
    "string=x.isdecimal()\n",
    "s=y.isdecimal()\n",
    "print(string)\n",
    "print(s)"
   ]
  },
  {
   "cell_type": "code",
   "execution_count": 6,
   "id": "1166ffee-97aa-445a-9310-ec0a1fcd9873",
   "metadata": {},
   "outputs": [
    {
     "name": "stdout",
     "output_type": "stream",
     "text": [
      "True\n",
      "False\n"
     ]
    }
   ],
   "source": [
    "x=\"8558\"\n",
    "y='u00'\n",
    "string=x.isdigit()\n",
    "s=y.isdigit()\n",
    "print(string)\n",
    "print(s)"
   ]
  },
  {
   "cell_type": "code",
   "execution_count": 7,
   "id": "c65cf17b-1685-48e8-8c47-c20bf31a8896",
   "metadata": {},
   "outputs": [
    {
     "name": "stdout",
     "output_type": "stream",
     "text": [
      "True\n",
      "False\n"
     ]
    }
   ],
   "source": [
    "x=\"ngg888hg\"\n",
    "y='5554llj'\n",
    "string=x.isidentifier()\n",
    "s=y.isidentifier()\n",
    "print(string)\n",
    "print(s)"
   ]
  },
  {
   "cell_type": "code",
   "execution_count": 8,
   "id": "f2b53b4c-d827-4f32-87a4-00d5a2f0ce9c",
   "metadata": {},
   "outputs": [
    {
     "name": "stdout",
     "output_type": "stream",
     "text": [
      "True\n",
      "False\n"
     ]
    }
   ],
   "source": [
    "x=\"85jsfbjsf58\"\n",
    "y='55AA'\n",
    "string=x.islower()\n",
    "s=y.islower()\n",
    "print(string)\n",
    "print(s)"
   ]
  },
  {
   "cell_type": "code",
   "execution_count": 9,
   "id": "370b5c78-26d9-4515-a33c-d7a8689177ba",
   "metadata": {},
   "outputs": [
    {
     "name": "stdout",
     "output_type": "stream",
     "text": [
      "False\n",
      "True\n"
     ]
    }
   ],
   "source": [
    "x=\"85jsfbjsf58\"\n",
    "y='55AA'\n",
    "string=x.isupper()\n",
    "s=y.isupper()\n",
    "print(string)\n",
    "print(s)"
   ]
  },
  {
   "cell_type": "code",
   "execution_count": 10,
   "id": "cce370fa-14a7-4a20-9890-57f644ee3dd7",
   "metadata": {},
   "outputs": [
    {
     "name": "stdout",
     "output_type": "stream",
     "text": [
      "True\n",
      "False\n"
     ]
    }
   ],
   "source": [
    "x=\"₃₃\"\n",
    "y='852.2'\n",
    "string=x.isnumeric()\n",
    "s=y.isnumeric()\n",
    "print(string)\n",
    "print(s)"
   ]
  },
  {
   "cell_type": "code",
   "execution_count": 11,
   "id": "fff5c450-fba6-40ed-896c-4a4590caedae",
   "metadata": {},
   "outputs": [
    {
     "name": "stdout",
     "output_type": "stream",
     "text": [
      "False\n",
      "True\n"
     ]
    }
   ],
   "source": [
    "x=\"₃₃\\n\"\n",
    "y='852.2'\n",
    "string=x.isprintable()\n",
    "s=y.isprintable()\n",
    "print(string)\n",
    "print(s)"
   ]
  },
  {
   "cell_type": "code",
   "execution_count": 12,
   "id": "e77bf20f-65e9-4e59-9318-f6558315cb60",
   "metadata": {},
   "outputs": [
    {
     "name": "stdout",
     "output_type": "stream",
     "text": [
      "True\n",
      "False\n"
     ]
    }
   ],
   "source": [
    "x=\"   \"\n",
    "y='852.2'\n",
    "string=x.isspace()\n",
    "s=y.isspace()\n",
    "print(string)\n",
    "print(s)"
   ]
  },
  {
   "cell_type": "code",
   "execution_count": 13,
   "id": "a0aaf477-4faf-44d2-8e9a-270f76e753e0",
   "metadata": {},
   "outputs": [
    {
     "name": "stdout",
     "output_type": "stream",
     "text": [
      "True\n",
      "False\n"
     ]
    }
   ],
   "source": [
    "x=\"H₃₃\"\n",
    "y='HhFF852'\n",
    "string=x.istitle()\n",
    "s=y.istitle()\n",
    "print(string)\n",
    "print(s)"
   ]
  },
  {
   "cell_type": "code",
   "execution_count": null,
   "id": "6efa6905-414a-4402-87a3-5adfe29827a7",
   "metadata": {},
   "outputs": [],
   "source": []
  }
 ],
 "metadata": {
  "kernelspec": {
   "display_name": "Python 3 (ipykernel)",
   "language": "python",
   "name": "python3"
  },
  "language_info": {
   "codemirror_mode": {
    "name": "ipython",
    "version": 3
   },
   "file_extension": ".py",
   "mimetype": "text/x-python",
   "name": "python",
   "nbconvert_exporter": "python",
   "pygments_lexer": "ipython3",
   "version": "3.11.7"
  }
 },
 "nbformat": 4,
 "nbformat_minor": 5
}
