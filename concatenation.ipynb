{
 "cells": [
  {
   "cell_type": "code",
   "execution_count": 1,
   "id": "3b403734-8c9c-49eb-9970-4bb8e0a2b003",
   "metadata": {},
   "outputs": [
    {
     "data": {
      "text/plain": [
       "27"
      ]
     },
     "execution_count": 1,
     "metadata": {},
     "output_type": "execute_result"
    }
   ],
   "source": [
    "3**3"
   ]
  },
  {
   "cell_type": "code",
   "execution_count": 2,
   "id": "4b7e984a-c52c-401a-9230-d3237a4c64c5",
   "metadata": {},
   "outputs": [
    {
     "name": "stdout",
     "output_type": "stream",
     "text": [
      "[1, 2, 3, 4, 'a', 'o']\n"
     ]
    }
   ],
   "source": [
    "l=[1,2,3,4]\n",
    "o=['a','o']\n",
    "p=l+o\n",
    "print(p)"
   ]
  },
  {
   "cell_type": "code",
   "execution_count": 3,
   "id": "ddf584aa-b120-4d0c-bdb5-7df8ffd81c1f",
   "metadata": {},
   "outputs": [
    {
     "name": "stdout",
     "output_type": "stream",
     "text": [
      "[(1, 'a'), (2, 'o'), (3, 'a'), (4, 'o')]\n"
     ]
    }
   ],
   "source": [
    "x=zip(l,o*2)\n",
    "print(list(x))"
   ]
  },
  {
   "cell_type": "code",
   "execution_count": 4,
   "id": "9613b7c9-67b3-439b-b9ac-01243699e7e1",
   "metadata": {},
   "outputs": [
    {
     "name": "stdout",
     "output_type": "stream",
     "text": [
      "[(2, 'a'), (4, 'o'), (6, 'a'), (8, 'o')]\n",
      "(4, 'o')\n",
      "[(2, 'a'), (6, 'a'), (8, 'o')]\n"
     ]
    }
   ],
   "source": [
    "y=list(zip(map(lambda x : x*2,l),o*2))\n",
    "print(y)\n",
    "po=y.pop(1)\n",
    "print(po)\n",
    "print(y)"
   ]
  },
  {
   "cell_type": "code",
   "execution_count": 5,
   "id": "d92dd669-f130-4f9d-ab94-d6403c35856a",
   "metadata": {},
   "outputs": [
    {
     "data": {
      "text/plain": [
       "['__add__',\n",
       " '__class__',\n",
       " '__class_getitem__',\n",
       " '__contains__',\n",
       " '__delattr__',\n",
       " '__delitem__',\n",
       " '__dir__',\n",
       " '__doc__',\n",
       " '__eq__',\n",
       " '__format__',\n",
       " '__ge__',\n",
       " '__getattribute__',\n",
       " '__getitem__',\n",
       " '__getstate__',\n",
       " '__gt__',\n",
       " '__hash__',\n",
       " '__iadd__',\n",
       " '__imul__',\n",
       " '__init__',\n",
       " '__init_subclass__',\n",
       " '__iter__',\n",
       " '__le__',\n",
       " '__len__',\n",
       " '__lt__',\n",
       " '__mul__',\n",
       " '__ne__',\n",
       " '__new__',\n",
       " '__reduce__',\n",
       " '__reduce_ex__',\n",
       " '__repr__',\n",
       " '__reversed__',\n",
       " '__rmul__',\n",
       " '__setattr__',\n",
       " '__setitem__',\n",
       " '__sizeof__',\n",
       " '__str__',\n",
       " '__subclasshook__',\n",
       " 'append',\n",
       " 'clear',\n",
       " 'copy',\n",
       " 'count',\n",
       " 'extend',\n",
       " 'index',\n",
       " 'insert',\n",
       " 'pop',\n",
       " 'remove',\n",
       " 'reverse',\n",
       " 'sort']"
      ]
     },
     "execution_count": 5,
     "metadata": {},
     "output_type": "execute_result"
    }
   ],
   "source": [
    "dir(list)"
   ]
  },
  {
   "cell_type": "code",
   "execution_count": 6,
   "id": "7e2afe90-56ab-431d-b002-bf53be6e8540",
   "metadata": {},
   "outputs": [
    {
     "name": "stdout",
     "output_type": "stream",
     "text": [
      "None\n",
      "[]\n",
      "[1, 2, 2, 2, 2, 2, 8, 3, 4, 5, 4]\n",
      "5\n",
      "[1, 2, 2, 2, 2, 2, 8, 3, 4, 5, 4, 78, 89, 45]\n",
      "[1, 2, 2, 2, 2, 2, 8, 3, 4, 5, 4, 78, 89, 45]\n"
     ]
    }
   ],
   "source": [
    "newlist=[1,2,8,3,4,5,4]\n",
    "print(newlist.clear())#deletes the complete list\n",
    "print(newlist)\n",
    "nwlist=[1,2,2,2,2,2,8,3,4,5,4]\n",
    "nl=nwlist.copy()\n",
    "print(nl)\n",
    "print(nl.count(2))\n",
    "new=[78,89,45]\n",
    "nl.extend(new)\n",
    "print(nl)\n",
    "pip=[]\n",
    "pip.extend(nl)\n",
    "print(pip)"
   ]
  },
  {
   "cell_type": "code",
   "execution_count": 7,
   "id": "b9a58a3a-582e-4b68-b595-34fcabad3525",
   "metadata": {},
   "outputs": [
    {
     "name": "stdout",
     "output_type": "stream",
     "text": [
      "[1, 16, 729, 65536, 9765625]\n"
     ]
    }
   ],
   "source": [
    "#wap to print num square\n",
    "l=[]\n",
    "for i in range(1,6):\n",
    "    l.append(i**i)\n",
    "x=map(lambda x: x**2,l)   \n",
    "print(list(x))"
   ]
  },
  {
   "cell_type": "code",
   "execution_count": 8,
   "id": "80fb9c28-eec0-4286-ac6d-9378fecf4e65",
   "metadata": {},
   "outputs": [
    {
     "name": "stdout",
     "output_type": "stream",
     "text": [
      "8\n"
     ]
    }
   ],
   "source": [
    "listt=[]\n",
    "for i in range(0,9):\n",
    "    \n",
    "    listt.append(i)\n",
    "print(listt.index(8))    "
   ]
  },
  {
   "cell_type": "code",
   "execution_count": 20,
   "id": "5f1e5037-3cff-4406-aa37-4df763877c53",
   "metadata": {},
   "outputs": [
    {
     "name": "stdout",
     "output_type": "stream",
     "text": [
      "['Bbsr']\n"
     ]
    }
   ],
   "source": [
    "city=['mum','kipotre','Bbsr','chennai']\n",
    "cap=[]\n",
    "for i in city:\n",
    "    if i.istitle():\n",
    "        cap.append(i)\n",
    "print(cap)"
   ]
  },
  {
   "cell_type": "code",
   "execution_count": 52,
   "id": "bf2de5ec-d604-4261-b259-dcd87c98b7dd",
   "metadata": {},
   "outputs": [
    {
     "name": "stdout",
     "output_type": "stream",
     "text": [
      "[69, 98, 78, 41, 53, 32, 12, [8, 92, 96, 9, 85, 7, 71, 72, 5, 74]]\n"
     ]
    }
   ],
   "source": [
    "loop=[98,78,41,53,32,12]\n",
    "lo=[8,92,96,9,85,7,71,72,5,74]\n",
    "loop.insert(0,69)\n",
    "loop.insert(len(loop),lo)\n",
    "print(loop)"
   ]
  },
  {
   "cell_type": "code",
   "execution_count": 66,
   "id": "9c9ee38c-76c7-4f8c-a00f-fcff0332469b",
   "metadata": {},
   "outputs": [
    {
     "name": "stdout",
     "output_type": "stream",
     "text": [
      "['ki#']\n",
      "['ki#']\n"
     ]
    }
   ],
   "source": [
    "ok=['ki#','lis','op']\n",
    "pl=[]\n",
    "pol=[]\n",
    "for i in ok:\n",
    "    for j in i:\n",
    "        if j=='#':\n",
    "            pl.append(i)\n",
    "print(pl)            \n",
    "for i in ok:\n",
    "    if \"#\" in i:\n",
    "        pol.append(i)\n",
    "print(pol)"
   ]
  },
  {
   "cell_type": "code",
   "execution_count": 70,
   "id": "5b6d5f7e-f26a-4b76-806a-dfeb99721177",
   "metadata": {},
   "outputs": [
    {
     "name": "stdout",
     "output_type": "stream",
     "text": [
      "['listttt']\n"
     ]
    }
   ],
   "source": [
    "ok=['ki#','listttt','op']\n",
    "pl=list(filter(lambda x:len(x)>4,ok))\n",
    "print(pl)            "
   ]
  },
  {
   "cell_type": "code",
   "execution_count": 134,
   "id": "52c30fa8-6beb-484d-bfb1-b6c59050c816",
   "metadata": {},
   "outputs": [
    {
     "name": "stdout",
     "output_type": "stream",
     "text": [
      "can = 4\n",
      "canner = 2\n",
      "not = 1\n",
      "a = 1\n",
      "but = 2\n",
      "[('can', 4), ('canner', 2), ('not', 1), ('a', 1), ('but', 2)]\n"
     ]
    }
   ],
   "source": [
    "string='can canner can not a can but but canner can'\n",
    "lis=string.split()\n",
    "dum=[]\n",
    "count=[]\n",
    "for i in lis:\n",
    "    if i in dum:\n",
    "        ind=dum.index(i)\n",
    "        count[ind]+=1\n",
    "    else:\n",
    "        dum.append(i)\n",
    "        count.append(1)\n",
    "for i in range(len(dum)):\n",
    "    print(f\"{dum[i]} = {count[i]}\")  \n",
    "zipper=list(zip(dum,count))\n",
    "print(zipper)"
   ]
  },
  {
   "cell_type": "code",
   "execution_count": 130,
   "id": "5dfceaa8-ab6e-4e7b-9f7b-c3734bcf628e",
   "metadata": {},
   "outputs": [
    {
     "name": "stdout",
     "output_type": "stream",
     "text": [
      "can=4\n",
      "canner=2\n",
      "not=1\n",
      "a=1\n",
      "but=2\n"
     ]
    }
   ],
   "source": [
    "string='can canner can not a can but but canner can'\n",
    "lis=string.split()\n",
    "dic={}\n",
    "for i in lis:\n",
    "    if i in dic:\n",
    "        dic[i]+=1\n",
    "    else:\n",
    "        dic[i]=1\n",
    "for i,c in dic.items():\n",
    "    print(f\"{i}={c}\")"
   ]
  },
  {
   "cell_type": "code",
   "execution_count": 132,
   "id": "c7d3d73f-4ca3-4ee3-8db7-dfb87af39491",
   "metadata": {},
   "outputs": [
    {
     "name": "stdout",
     "output_type": "stream",
     "text": [
      "[('can', 4), ('canner', 2), ('not', 1), ('a', 1), ('but', 2)]\n"
     ]
    }
   ],
   "source": [
    "string='can canner can not a can but but canner can'\n",
    "lis=string.split()\n",
    "dum=[]\n",
    "count=[]\n",
    "for i in lis:\n",
    "    if i in dum:\n",
    "        ind=dum.index(i)\n",
    "        count[ind]+=1\n",
    "    else:\n",
    "        dum.append(i)\n",
    "        count.append(1)\n",
    "zipper=list(zip(dum,count))\n",
    "print(zipper)\n"
   ]
  },
  {
   "cell_type": "code",
   "execution_count": 140,
   "id": "8939b74d-5593-4505-98f0-e8d5e007b915",
   "metadata": {},
   "outputs": [
    {
     "data": {
      "text/plain": [
       "['ChainMap',\n",
       " 'Counter',\n",
       " 'OrderedDict',\n",
       " 'UserDict',\n",
       " 'UserList',\n",
       " 'UserString',\n",
       " '_Link',\n",
       " '_OrderedDictItemsView',\n",
       " '_OrderedDictKeysView',\n",
       " '_OrderedDictValuesView',\n",
       " '__all__',\n",
       " '__builtins__',\n",
       " '__cached__',\n",
       " '__doc__',\n",
       " '__file__',\n",
       " '__loader__',\n",
       " '__name__',\n",
       " '__package__',\n",
       " '__path__',\n",
       " '__spec__',\n",
       " '_chain',\n",
       " '_collections_abc',\n",
       " '_count_elements',\n",
       " '_eq',\n",
       " '_iskeyword',\n",
       " '_itemgetter',\n",
       " '_proxy',\n",
       " '_recursive_repr',\n",
       " '_repeat',\n",
       " '_starmap',\n",
       " '_sys',\n",
       " '_tuplegetter',\n",
       " 'abc',\n",
       " 'defaultdict',\n",
       " 'deque',\n",
       " 'namedtuple']"
      ]
     },
     "execution_count": 140,
     "metadata": {},
     "output_type": "execute_result"
    }
   ],
   "source": [
    "import collections\n",
    "dir(collections)"
   ]
  },
  {
   "cell_type": "code",
   "execution_count": null,
   "id": "e344bd0b-a2a1-43d7-b50d-c338f159be5e",
   "metadata": {},
   "outputs": [],
   "source": []
  }
 ],
 "metadata": {
  "kernelspec": {
   "display_name": "Python 3 (ipykernel)",
   "language": "python",
   "name": "python3"
  },
  "language_info": {
   "codemirror_mode": {
    "name": "ipython",
    "version": 3
   },
   "file_extension": ".py",
   "mimetype": "text/x-python",
   "name": "python",
   "nbconvert_exporter": "python",
   "pygments_lexer": "ipython3",
   "version": "3.11.7"
  }
 },
 "nbformat": 4,
 "nbformat_minor": 5
}
