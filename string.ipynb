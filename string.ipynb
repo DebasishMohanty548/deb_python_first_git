{
 "cells": [
  {
   "cell_type": "markdown",
   "id": "2dfb1945-16d7-4f40-bb60-4d124562614e",
   "metadata": {},
   "source": []
  },
  {
   "cell_type": "markdown",
   "id": "1fce5414-142d-4906-b7e3-5ada643a400a",
   "metadata": {},
   "source": [
    "Write a program that asks the user to enter a string. The program should then print the following: (a) The total number of characters in the string (b) The string repeated 10 times (c) The first character of the string (remember that string indices start at 0) (d) The first three characters of the string (e) The last three characters of the string (f) The string backwards (g) The seventh character of the string if the string is long enough and a message otherwise (h) The string with its first and last characters removed (i) The string in all caps (j) The string with every a replaced with an e\n",
    "\n"
   ]
  },
  {
   "cell_type": "code",
   "execution_count": 54,
   "id": "53851321-e7d8-4472-ba1a-9d3b14b3a040",
   "metadata": {},
   "outputs": [
    {
     "name": "stdin",
     "output_type": "stream",
     "text": [
      "enter string :   debaish mhanty\n"
     ]
    },
    {
     "name": "stdout",
     "output_type": "stream",
     "text": [
      "total characters in the string= 14\n",
      "debaish mhanty\n",
      "debaish mhanty\n",
      "debaish mhanty\n",
      "debaish mhanty\n",
      "debaish mhanty\n",
      "debaish mhanty\n",
      "debaish mhanty\n",
      "debaish mhanty\n",
      "debaish mhanty\n",
      "debaish mhanty\n",
      "\n",
      "d\n",
      "deb\n",
      "nty\n",
      "ytnahm hsiabed\n",
      "h\n",
      "ebaish mhant\n",
      "DEBAISH MHANTY\n",
      "debeish mhenty\n"
     ]
    }
   ],
   "source": [
    "firsts=input(\"enter string :  \")\n",
    "print(f'total characters in the string= {len(firsts)}')\n",
    "print(10*(firsts+'\\n'))\n",
    "print(firsts[0])\n",
    "print(firsts[0:3])\n",
    "print(firsts[-3:])\n",
    "print(firsts[::-1])\n",
    "if len(firsts)>=7:\n",
    "    print(firsts[6])\n",
    "else:\n",
    "    print(\"too short\")\n",
    "print(firsts[1:len(firsts)-1])\n",
    "print(firsts.upper())\n",
    "print(firsts.replace('a','e'))"
   ]
  },
  {
   "cell_type": "markdown",
   "id": "c7ab8779-a5c1-49bd-8f62-cdb6122a094f",
   "metadata": {},
   "source": [
    "A simple way to estimate the number of words in a string is to count the number of spaces in the\n",
    "string. Write a program that asks the user for a string and returns an estimate of how many words\n",
    "are in the string.\n",
    "Tip: You need to count the number of words using spaces\n"
   ]
  },
  {
   "cell_type": "code",
   "execution_count": 52,
   "id": "5caab882-7f17-476a-b628-5485a7f00084",
   "metadata": {},
   "outputs": [
    {
     "name": "stdin",
     "output_type": "stream",
     "text": [
      "enter :  im batman\n"
     ]
    },
    {
     "name": "stdout",
     "output_type": "stream",
     "text": [
      "the no of words= 2\n",
      "2\n"
     ]
    }
   ],
   "source": [
    "second=input('enter : ')\n",
    "c=0\n",
    "for i in second:\n",
    "    if i == ' ':\n",
    "        c+=1\n",
    "print(f\"the no of words= {c+1}\")\n",
    "l=second.split()\n",
    "print(len(l))"
   ]
  },
  {
   "cell_type": "markdown",
   "id": "09e25292-0eea-4ba0-ad14-76ad198353bf",
   "metadata": {},
   "source": [
    "3.Write a program that asks the user to enter a word and prints out whether that word contains any\n",
    "vowels."
   ]
  },
  {
   "cell_type": "code",
   "execution_count": 50,
   "id": "6643449a-3edd-4de5-b55a-dc88edb1c5b5",
   "metadata": {},
   "outputs": [
    {
     "name": "stdin",
     "output_type": "stream",
     "text": [
      "enter :  hii hpge are u\n"
     ]
    },
    {
     "name": "stdout",
     "output_type": "stream",
     "text": [
      "yes there are vowels\n",
      "['i', 'i', 'e', 'a', 'e', 'u']\n"
     ]
    }
   ],
   "source": [
    "third=input('enter : ')\n",
    "vowels=\"aeiou\"\n",
    "dummy=third.lower()\n",
    "v=[char for char in third if char in vowels]\n",
    "if len(v)!=0:\n",
    "    print('yes there are vowels')\n",
    "    print(v)\n",
    "else:\n",
    "    print(\"no vowels\")"
   ]
  },
  {
   "cell_type": "markdown",
   "id": "45c7f1d3-257c-424c-b6f7-e0fad5eeff70",
   "metadata": {},
   "source": [
    "4. Improvise above code by providing unique vowels"
   ]
  },
  {
   "cell_type": "code",
   "execution_count": 48,
   "id": "e3143589-ba08-4e35-9560-3571b3926487",
   "metadata": {},
   "outputs": [
    {
     "name": "stdin",
     "output_type": "stream",
     "text": [
      "enter :  hii how r u\n"
     ]
    },
    {
     "name": "stdout",
     "output_type": "stream",
     "text": [
      "yes there are vowels\n",
      "unique vowels = {'o', 'u', 'i'}\n"
     ]
    }
   ],
   "source": [
    "third=input('enter : ')\n",
    "vowels=\"aeiou\"\n",
    "dummy=third.lower()\n",
    "v=[char for char in third if char in vowels]\n",
    "if len(v)!=0:\n",
    "    print('yes there are vowels')\n",
    "    print(f'unique vowels = {set(v)}')\n",
    "else:\n",
    "    print(\"no vowels\")"
   ]
  },
  {
   "cell_type": "markdown",
   "id": "2eb294b8-a39e-47c6-9388-0699f6711ca9",
   "metadata": {},
   "source": [
    "5. Write a program that asks the user to enter a string. The program should create a new string\n",
    "called new_string from the user’s string such that the second character is changed to an asterisk and\n",
    "three exclamation points are attached to the end of the string. Finally, print new_string.\n",
    "Typical output is shown below:\n",
    "Enter your string: Qbert\n",
    "Output: Q*ert!!!"
   ]
  },
  {
   "cell_type": "code",
   "execution_count": 46,
   "id": "fea757b9-4ae3-46ab-ae45-122e8868c7d9",
   "metadata": {},
   "outputs": [
    {
     "name": "stdin",
     "output_type": "stream",
     "text": [
      "enter :  akash\n"
     ]
    },
    {
     "name": "stdout",
     "output_type": "stream",
     "text": [
      "a*ash!!!\n"
     ]
    }
   ],
   "source": [
    "fifth=input('enter : ')\n",
    "fifth=list(fifth)\n",
    "fifth[1]='*'\n",
    "print(\"\".join(fifth)+'!!!')"
   ]
  },
  {
   "cell_type": "markdown",
   "id": "3782af8b-aab0-4e73-81f9-93b446292f04",
   "metadata": {},
   "source": [
    "6. Write a program that asks the user to enter a word and determines whether the word is a\n",
    "palindrome or not. A palindrome is a word that reads the same backwards as forwards\n"
   ]
  },
  {
   "cell_type": "code",
   "execution_count": 44,
   "id": "4e4ee0af-7677-4e6b-a4a7-71cd6b2f7623",
   "metadata": {},
   "outputs": [
    {
     "name": "stdin",
     "output_type": "stream",
     "text": [
      "enter:  baab\n"
     ]
    },
    {
     "name": "stdout",
     "output_type": "stream",
     "text": [
      "palindrome\n"
     ]
    }
   ],
   "source": [
    "six=input('enter: ')\n",
    "du=six\n",
    "if six[::-1]==du:\n",
    "    print('palindrome')\n",
    "else:\n",
    "    print('not palindrome')\n",
    "          "
   ]
  },
  {
   "cell_type": "markdown",
   "id": "27c36757-6291-4447-ae03-49249818ea79",
   "metadata": {},
   "source": [
    "7. At a certain school, student email addresses end with @student.college.edu, while professor\n",
    "email addresses end with @prof.college.edu. Write a program that first asks the user how many\n",
    "email addresses they will be entering, and then has the user enter those addresses. After all the\n",
    "email addresses are entered, the program should print out a message indicating either that all the\n",
    "addresses are student addresses or that there were some professor addresses entered."
   ]
  },
  {
   "cell_type": "code",
   "execution_count": 42,
   "id": "789ba97c-87e1-488e-b1ec-63f19b1d6b2f",
   "metadata": {},
   "outputs": [
    {
     "name": "stdin",
     "output_type": "stream",
     "text": [
      "enter no of input :  3\n",
      "enter address :   @student.college.edu,\n",
      "enter address :   @student.college.edu,\n",
      "enter address :   a@prof.college.edu\n"
     ]
    },
    {
     "name": "stdout",
     "output_type": "stream",
     "text": [
      "there were some professor addresses entered\n"
     ]
    }
   ],
   "source": [
    "se=int(input('enter no of input : '))\n",
    "li=[]\n",
    "for i in range(se):\n",
    "    seven=input(\"enter address :  \")\n",
    "    li.append(seven)\n",
    "prof='@prof.college.edu'\n",
    "f=False\n",
    "for i in li:\n",
    "    if prof in i :\n",
    "        f=True\n",
    "if f==True:\n",
    "    print('there were some professor addresses entered')\n",
    "else:\n",
    "    print('all the addresses are student addresses ')"
   ]
  },
  {
   "cell_type": "markdown",
   "id": "4c52e2ea-675d-4131-9e4b-7e6271850e8e",
   "metadata": {},
   "source": [
    "8. Write a program that asks the user to enter a string, then prints out each letter of the string\n",
    "doubled and on a separate line. For instance,\n",
    "if the user entered HEY,\n",
    "the output would be\n",
    "HH\n",
    "EE\n",
    "YY\n"
   ]
  },
  {
   "cell_type": "code",
   "execution_count": 40,
   "id": "8da00355-cb1e-4264-873c-a879206aa6b0",
   "metadata": {},
   "outputs": [
    {
     "name": "stdin",
     "output_type": "stream",
     "text": [
      " hey\n"
     ]
    },
    {
     "name": "stdout",
     "output_type": "stream",
     "text": [
      "hh\n",
      "\n",
      "ee\n",
      "\n",
      "yy\n",
      "\n"
     ]
    }
   ],
   "source": [
    "eight=input()\n",
    "for i in eight:\n",
    "    print((2*i)+'\\n')"
   ]
  },
  {
   "cell_type": "markdown",
   "id": "bb653d38-5753-4b30-8161-ef9bbe075abe",
   "metadata": {},
   "source": [
    "9.Write a program that asks the user to enter a word that contains the letter a. The program should\n",
    "then print the following two lines: On the first line should be the part of the string up to and\n",
    "including the the first a, and on the second line should be the rest of the string.\n",
    "Sample output is shown below:\n",
    "Enter a word: buffalo\n",
    "buffa\n",
    "lo"
   ]
  },
  {
   "cell_type": "code",
   "execution_count": 38,
   "id": "54e45a32-570b-49fd-b8aa-31e90cb7e1e4",
   "metadata": {},
   "outputs": [
    {
     "name": "stdin",
     "output_type": "stream",
     "text": [
      "enter a word that contains the letter a :  debasish\n"
     ]
    },
    {
     "name": "stdout",
     "output_type": "stream",
     "text": [
      "deba\n",
      "sish\n"
     ]
    }
   ],
   "source": [
    "nine=input(\"enter a word that contains the letter a : \")\n",
    "ind=nine.index('a')\n",
    "print(nine[:ind+1]+'\\n'+nine[ind+1:])"
   ]
  },
  {
   "cell_type": "markdown",
   "id": "b0a05eb4-8cd4-4456-a0a9-35fcfd4ffd71",
   "metadata": {},
   "source": [
    "10. Write a program that asks the user to enter a word and then capitalizes every other letter of that\n",
    "word.\n",
    "So if the user enters rhinoceros,\n",
    "the program should print rHiNoCeRoS."
   ]
  },
  {
   "cell_type": "code",
   "execution_count": 36,
   "id": "0417d18a-c17c-43ca-ab40-bbe4eb32ccc4",
   "metadata": {},
   "outputs": [
    {
     "name": "stdin",
     "output_type": "stream",
     "text": [
      " debaish\n"
     ]
    },
    {
     "name": "stdout",
     "output_type": "stream",
     "text": [
      "dEbAiSh\n"
     ]
    }
   ],
   "source": [
    "ten=input()\n",
    "x=[ten[i].lower() if i%2==0 else ten[i].upper() for i in range(len(ten))]\n",
    "print(''.join(x))"
   ]
  },
  {
   "cell_type": "markdown",
   "id": "3458242f-152a-4e1f-a698-fea27864f6b9",
   "metadata": {},
   "source": [
    "11. Write a program that asks the user to enter two strings of the same length. The program should\n",
    "then check to see if the strings are of the same length. If they are not, the program should print an\n",
    "appropriate message and exit. If they are of the same length, the program should alternate the\n",
    "characters of the two strings. For example,\n",
    "if the user enters abcde and ABCDE\n",
    "the program should print out AaBbCcDdEe."
   ]
  },
  {
   "cell_type": "code",
   "execution_count": 34,
   "id": "dca0a9ea-5afd-4815-a69f-155ad5bd6152",
   "metadata": {},
   "outputs": [
    {
     "name": "stdin",
     "output_type": "stream",
     "text": [
      " abcd\n",
      " ABCD\n"
     ]
    },
    {
     "name": "stdout",
     "output_type": "stream",
     "text": [
      "aAbBcCdD\n"
     ]
    }
   ],
   "source": [
    "s1=input()\n",
    "s2=input()\n",
    "l=''\n",
    "if len(s1)!=len(s2):\n",
    "    print(\"not applicable\")\n",
    "else:\n",
    "    for i in range(len(s1)):\n",
    "        if i<len(s1):\n",
    "            l+=s1[i]\n",
    "        if i<len(s2):\n",
    "            l+=s2[i]\n",
    "print(l)    \n",
    "           "
   ]
  },
  {
   "cell_type": "markdown",
   "id": "fddc8aa9-0917-4824-bafe-c9f4218f5f62",
   "metadata": {},
   "source": [
    "Write a program that asks the user to enter their name in lowercase and then capitalizes the first\n",
    "letter of each word of their name."
   ]
  },
  {
   "cell_type": "code",
   "execution_count": 32,
   "id": "90fe30f2-bbcb-466e-b764-225b9c7dfdef",
   "metadata": {},
   "outputs": [
    {
     "name": "stdin",
     "output_type": "stream",
     "text": [
      "enter name :  rohit phani prasad\n"
     ]
    },
    {
     "name": "stdout",
     "output_type": "stream",
     "text": [
      "Rohit Phani Prasad "
     ]
    }
   ],
   "source": [
    "tq=input('enter name : ')\n",
    "lq=tq.split()\n",
    "for i in lq:\n",
    "    print(i.title(),end=' ')"
   ]
  },
  {
   "cell_type": "markdown",
   "id": "697d1f6b-ad79-4a79-a906-3f06fb8ea749",
   "metadata": {},
   "source": [
    "\n",
    "13. The goal of this exercise is to see if you can mimic the behavior of the in operator and the count\n",
    "and index methods using only variables, for loops, and if statements.\n",
    "(a) Without using the in operator, write a program that asks the user for a string and a letter\n",
    "and prints out whether or not the letter appears in the string.\n",
    "(b) Without using the count method, write a program that asks the user for a string and a\n",
    "letter and counts how many occurrences there are of the letter in the string.\n",
    "(c) Without using the index method, write a program that asks the user for a string and a\n",
    "letter and prints out the index of the first occurrence of the letter in the string. If the letter is\n",
    "not in the string, the program should say so.\n"
   ]
  },
  {
   "cell_type": "code",
   "execution_count": 30,
   "id": "c8a8dab4-e685-451c-bba7-38588b4b82eb",
   "metadata": {},
   "outputs": [
    {
     "name": "stdin",
     "output_type": "stream",
     "text": [
      " zvsduvbsbsvvvsss\n",
      "enter letter :  s\n"
     ]
    },
    {
     "name": "stdout",
     "output_type": "stream",
     "text": [
      "yes letter present\n",
      "count=6\n",
      "3\n"
     ]
    }
   ],
   "source": [
    "inp=input()\n",
    "let=input('enter letter : ')\n",
    "c=0\n",
    "if let in inp:\n",
    "    print('yes letter present')\n",
    "else:\n",
    "    print('letter not found')\n",
    "for i in inp:\n",
    "    if i==let:\n",
    "        c+=1\n",
    "        \n",
    "print(f'count={c}')\n",
    "for i in range(len(inp)):\n",
    "    if inp[i]==let:\n",
    "     print(i+1)\n",
    "     break"
   ]
  },
  {
   "cell_type": "markdown",
   "id": "76e24f87-666b-4a7d-84a2-b26a368ac2e1",
   "metadata": {},
   "source": [
    "14. Finding a substring within a string\n",
    "For example, if we were presented a series of lines formatted as follows:\n",
    "From stephen.marquard@uct.ac.za Sat Jan 5 09:14:16 2008\n",
    "and we wanted to pull out only the second half of the address (i.e., uct.ac.za)"
   ]
  },
  {
   "cell_type": "code",
   "execution_count": 27,
   "id": "3e14545b-9abd-4b35-b839-159cdb3b3ccf",
   "metadata": {},
   "outputs": [
    {
     "name": "stdin",
     "output_type": "stream",
     "text": [
      " stephen.marquard@uct.ac.za Sat Jan 5 09:14:16 2008\n"
     ]
    },
    {
     "name": "stdout",
     "output_type": "stream",
     "text": [
      "uct.ac.za\n"
     ]
    }
   ],
   "source": [
    "inpp=input()\n",
    "d=inpp.index('@')\n",
    "op=inpp[d+1:]\n",
    "l=op.split()\n",
    "print(l[0])"
   ]
  },
  {
   "cell_type": "markdown",
   "id": "38b742c9-8643-4f99-870c-7811a865e77d",
   "metadata": {},
   "source": [
    "15. Write a Python program to add &#39;ing&#39; at the end of a given string (length should be at least 3). If the\n",
    "given string already ends with &#39;ing&#39; then add &#39;ly&#39; instead.\n",
    "If the string length of the given string is less than 3, leave it unchanged.\n",
    "Go to the editor\n",
    "Sample String : &#39;abc&#39;\n",
    "Expected Result : &#39;abcing&#39;\n",
    "Sample String : &#39;string&#39;\n",
    "Expected Result : &#39;stringly&#39;"
   ]
  },
  {
   "cell_type": "code",
   "execution_count": 22,
   "id": "2e2d79a2-a01b-493b-8ffd-a1e562da6b31",
   "metadata": {},
   "outputs": [
    {
     "name": "stdin",
     "output_type": "stream",
     "text": [
      " string\n"
     ]
    },
    {
     "name": "stdout",
     "output_type": "stream",
     "text": [
      "stringly\n"
     ]
    }
   ],
   "source": [
    "f=input()\n",
    "du='ing'\n",
    "if len(f)>=3:\n",
    "    if du in f:\n",
    "        print(f+'ly')\n",
    "    else:\n",
    "        print(f+du)\n",
    "else:\n",
    "    print(f)"
   ]
  },
  {
   "cell_type": "markdown",
   "id": "e9c3b855-1cee-41a9-bb8d-6547d85ea1ee",
   "metadata": {},
   "source": [
    "16. Take the following Python code that stores a string:‘\n",
    "string = &#39;X-DSPAM-Confidence: 0.8475&#39;\n",
    "Extract the portion of the string after the colon character and then use the float function to convert\n",
    "the extracted string into a floating point number.                                                                       "
   ]
  },
  {
   "cell_type": "code",
   "execution_count": 25,
   "id": "a8bd128c-dbe7-42a8-980e-83d340f0b16b",
   "metadata": {},
   "outputs": [
    {
     "name": "stdin",
     "output_type": "stream",
     "text": [
      " X-DSPAM-Confidence: 0.8475\n"
     ]
    },
    {
     "name": "stdout",
     "output_type": "stream",
     "text": [
      "0.8475\n"
     ]
    }
   ],
   "source": [
    "six=input()\n",
    "rm=six.index(':')\n",
    "x=six[rm+1:]\n",
    "print(float(x))"
   ]
  },
  {
   "cell_type": "code",
   "execution_count": null,
   "id": "796b678c-5174-4521-9b4e-24dc7dcbeb18",
   "metadata": {},
   "outputs": [],
   "source": []
  }
 ],
 "metadata": {
  "kernelspec": {
   "display_name": "Python 3 (ipykernel)",
   "language": "python",
   "name": "python3"
  },
  "language_info": {
   "codemirror_mode": {
    "name": "ipython",
    "version": 3
   },
   "file_extension": ".py",
   "mimetype": "text/x-python",
   "name": "python",
   "nbconvert_exporter": "python",
   "pygments_lexer": "ipython3",
   "version": "3.11.7"
  }
 },
 "nbformat": 4,
 "nbformat_minor": 5
}
